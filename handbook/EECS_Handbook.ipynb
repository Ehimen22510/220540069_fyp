{
 "cells": [
  {
   "cell_type": "markdown",
   "metadata": {
    "id": "GFF2mh7TtYtp"
   },
   "source": [
    "This notebook generally serves as a prototype to ingest split documents/data into smaller chunks of text and embed them into the pinecone database.\n",
    "\n",
    "Below is all of the installs used"
   ]
  },
  {
   "cell_type": "code",
   "execution_count": 3,
   "metadata": {
    "colab": {
     "base_uri": "https://localhost:8080/"
    },
    "collapsed": true,
    "executionInfo": {
     "elapsed": 145782,
     "status": "ok",
     "timestamp": 1746969737815,
     "user": {
      "displayName": "ehi men",
      "userId": "16322716033303718414"
     },
     "user_tz": -60
    },
    "id": "RmNvtr8gtVYG",
    "outputId": "f241cc89-7471-46fa-9b0a-c20cb050c819"
   },
   "outputs": [
    {
     "name": "stdout",
     "output_type": "stream",
     "text": [
      "Collecting pymupdf4llm\n",
      "  Downloading pymupdf4llm-0.0.24-py3-none-any.whl (28 kB)\n",
      "Collecting pymupdf>=1.25.5\n",
      "  Using cached pymupdf-1.25.5-cp39-abi3-macosx_10_9_x86_64.whl (19.4 MB)\n",
      "Installing collected packages: pymupdf, pymupdf4llm\n",
      "Successfully installed pymupdf-1.25.5 pymupdf4llm-0.0.24\n",
      "\u001b[33mWARNING: You are using pip version 21.2.4; however, version 25.1.1 is available.\n",
      "You should consider upgrading via the '/Users/ehimenagbonkhese/Downloads/220540069FPY/envv/bin/python -m pip install --upgrade pip' command.\u001b[0m\n",
      "Note: you may need to restart the kernel to use updated packages.\n",
      "Requirement already satisfied: langchain in /Users/ehimenagbonkhese/Downloads/220540069FPY/envv/lib/python3.9/site-packages (0.3.25)\n",
      "Requirement already satisfied: langchain-core<1.0.0,>=0.3.58 in /Users/ehimenagbonkhese/Downloads/220540069FPY/envv/lib/python3.9/site-packages (from langchain) (0.3.59)\n",
      "Requirement already satisfied: langsmith<0.4,>=0.1.17 in /Users/ehimenagbonkhese/Downloads/220540069FPY/envv/lib/python3.9/site-packages (from langchain) (0.3.42)\n",
      "Requirement already satisfied: requests<3,>=2 in /Users/ehimenagbonkhese/Downloads/220540069FPY/envv/lib/python3.9/site-packages (from langchain) (2.32.3)\n",
      "Requirement already satisfied: pydantic<3.0.0,>=2.7.4 in /Users/ehimenagbonkhese/Downloads/220540069FPY/envv/lib/python3.9/site-packages (from langchain) (2.11.4)\n",
      "Requirement already satisfied: PyYAML>=5.3 in /Users/ehimenagbonkhese/Downloads/220540069FPY/envv/lib/python3.9/site-packages (from langchain) (6.0.2)\n",
      "Requirement already satisfied: SQLAlchemy<3,>=1.4 in /Users/ehimenagbonkhese/Downloads/220540069FPY/envv/lib/python3.9/site-packages (from langchain) (2.0.41)\n",
      "Requirement already satisfied: langchain-text-splitters<1.0.0,>=0.3.8 in /Users/ehimenagbonkhese/Downloads/220540069FPY/envv/lib/python3.9/site-packages (from langchain) (0.3.8)\n",
      "Requirement already satisfied: async-timeout<5.0.0,>=4.0.0 in /Users/ehimenagbonkhese/Downloads/220540069FPY/envv/lib/python3.9/site-packages (from langchain) (4.0.3)\n",
      "Requirement already satisfied: typing-extensions>=4.7 in /Users/ehimenagbonkhese/Downloads/220540069FPY/envv/lib/python3.9/site-packages (from langchain-core<1.0.0,>=0.3.58->langchain) (4.13.2)\n",
      "Requirement already satisfied: jsonpatch<2.0,>=1.33 in /Users/ehimenagbonkhese/Downloads/220540069FPY/envv/lib/python3.9/site-packages (from langchain-core<1.0.0,>=0.3.58->langchain) (1.33)\n",
      "Requirement already satisfied: packaging<25,>=23.2 in /Users/ehimenagbonkhese/Downloads/220540069FPY/envv/lib/python3.9/site-packages (from langchain-core<1.0.0,>=0.3.58->langchain) (24.2)\n",
      "Requirement already satisfied: tenacity!=8.4.0,<10.0.0,>=8.1.0 in /Users/ehimenagbonkhese/Downloads/220540069FPY/envv/lib/python3.9/site-packages (from langchain-core<1.0.0,>=0.3.58->langchain) (9.1.2)\n",
      "Requirement already satisfied: jsonpointer>=1.9 in /Users/ehimenagbonkhese/Downloads/220540069FPY/envv/lib/python3.9/site-packages (from jsonpatch<2.0,>=1.33->langchain-core<1.0.0,>=0.3.58->langchain) (3.0.0)\n",
      "Requirement already satisfied: requests-toolbelt<2.0.0,>=1.0.0 in /Users/ehimenagbonkhese/Downloads/220540069FPY/envv/lib/python3.9/site-packages (from langsmith<0.4,>=0.1.17->langchain) (1.0.0)\n",
      "Requirement already satisfied: httpx<1,>=0.23.0 in /Users/ehimenagbonkhese/Downloads/220540069FPY/envv/lib/python3.9/site-packages (from langsmith<0.4,>=0.1.17->langchain) (0.28.1)\n",
      "Requirement already satisfied: orjson<4.0.0,>=3.9.14 in /Users/ehimenagbonkhese/Downloads/220540069FPY/envv/lib/python3.9/site-packages (from langsmith<0.4,>=0.1.17->langchain) (3.10.18)\n",
      "Requirement already satisfied: zstandard<0.24.0,>=0.23.0 in /Users/ehimenagbonkhese/Downloads/220540069FPY/envv/lib/python3.9/site-packages (from langsmith<0.4,>=0.1.17->langchain) (0.23.0)\n",
      "Requirement already satisfied: certifi in /Users/ehimenagbonkhese/Downloads/220540069FPY/envv/lib/python3.9/site-packages (from httpx<1,>=0.23.0->langsmith<0.4,>=0.1.17->langchain) (2025.4.26)\n",
      "Requirement already satisfied: idna in /Users/ehimenagbonkhese/Downloads/220540069FPY/envv/lib/python3.9/site-packages (from httpx<1,>=0.23.0->langsmith<0.4,>=0.1.17->langchain) (3.10)\n",
      "Requirement already satisfied: anyio in /Users/ehimenagbonkhese/Downloads/220540069FPY/envv/lib/python3.9/site-packages (from httpx<1,>=0.23.0->langsmith<0.4,>=0.1.17->langchain) (4.9.0)\n",
      "Requirement already satisfied: httpcore==1.* in /Users/ehimenagbonkhese/Downloads/220540069FPY/envv/lib/python3.9/site-packages (from httpx<1,>=0.23.0->langsmith<0.4,>=0.1.17->langchain) (1.0.9)\n",
      "Requirement already satisfied: h11>=0.16 in /Users/ehimenagbonkhese/Downloads/220540069FPY/envv/lib/python3.9/site-packages (from httpcore==1.*->httpx<1,>=0.23.0->langsmith<0.4,>=0.1.17->langchain) (0.16.0)\n",
      "Requirement already satisfied: pydantic-core==2.33.2 in /Users/ehimenagbonkhese/Downloads/220540069FPY/envv/lib/python3.9/site-packages (from pydantic<3.0.0,>=2.7.4->langchain) (2.33.2)\n",
      "Requirement already satisfied: typing-inspection>=0.4.0 in /Users/ehimenagbonkhese/Downloads/220540069FPY/envv/lib/python3.9/site-packages (from pydantic<3.0.0,>=2.7.4->langchain) (0.4.0)\n",
      "Requirement already satisfied: annotated-types>=0.6.0 in /Users/ehimenagbonkhese/Downloads/220540069FPY/envv/lib/python3.9/site-packages (from pydantic<3.0.0,>=2.7.4->langchain) (0.7.0)\n",
      "Requirement already satisfied: charset-normalizer<4,>=2 in /Users/ehimenagbonkhese/Downloads/220540069FPY/envv/lib/python3.9/site-packages (from requests<3,>=2->langchain) (3.4.2)\n",
      "Requirement already satisfied: urllib3<3,>=1.21.1 in /Users/ehimenagbonkhese/Downloads/220540069FPY/envv/lib/python3.9/site-packages (from requests<3,>=2->langchain) (2.4.0)\n",
      "Requirement already satisfied: greenlet>=1 in /Users/ehimenagbonkhese/Downloads/220540069FPY/envv/lib/python3.9/site-packages (from SQLAlchemy<3,>=1.4->langchain) (3.2.2)\n",
      "Requirement already satisfied: sniffio>=1.1 in /Users/ehimenagbonkhese/Downloads/220540069FPY/envv/lib/python3.9/site-packages (from anyio->httpx<1,>=0.23.0->langsmith<0.4,>=0.1.17->langchain) (1.3.1)\n",
      "Requirement already satisfied: exceptiongroup>=1.0.2 in /Users/ehimenagbonkhese/Downloads/220540069FPY/envv/lib/python3.9/site-packages (from anyio->httpx<1,>=0.23.0->langsmith<0.4,>=0.1.17->langchain) (1.3.0)\n",
      "\u001b[33mWARNING: You are using pip version 21.2.4; however, version 25.1.1 is available.\n",
      "You should consider upgrading via the '/Users/ehimenagbonkhese/Downloads/220540069FPY/envv/bin/python -m pip install --upgrade pip' command.\u001b[0m\n",
      "Note: you may need to restart the kernel to use updated packages.\n",
      "Requirement already satisfied: langchain_community in /Users/ehimenagbonkhese/Downloads/220540069FPY/envv/lib/python3.9/site-packages (0.3.24)\n",
      "Requirement already satisfied: langchain-core<1.0.0,>=0.3.59 in /Users/ehimenagbonkhese/Downloads/220540069FPY/envv/lib/python3.9/site-packages (from langchain_community) (0.3.59)\n",
      "Requirement already satisfied: tenacity!=8.4.0,<10,>=8.1.0 in /Users/ehimenagbonkhese/Downloads/220540069FPY/envv/lib/python3.9/site-packages (from langchain_community) (9.1.2)\n",
      "Requirement already satisfied: pydantic-settings<3.0.0,>=2.4.0 in /Users/ehimenagbonkhese/Downloads/220540069FPY/envv/lib/python3.9/site-packages (from langchain_community) (2.9.1)\n",
      "Requirement already satisfied: SQLAlchemy<3,>=1.4 in /Users/ehimenagbonkhese/Downloads/220540069FPY/envv/lib/python3.9/site-packages (from langchain_community) (2.0.41)\n",
      "Requirement already satisfied: langsmith<0.4,>=0.1.125 in /Users/ehimenagbonkhese/Downloads/220540069FPY/envv/lib/python3.9/site-packages (from langchain_community) (0.3.42)\n",
      "Requirement already satisfied: PyYAML>=5.3 in /Users/ehimenagbonkhese/Downloads/220540069FPY/envv/lib/python3.9/site-packages (from langchain_community) (6.0.2)\n",
      "Requirement already satisfied: aiohttp<4.0.0,>=3.8.3 in /Users/ehimenagbonkhese/Downloads/220540069FPY/envv/lib/python3.9/site-packages (from langchain_community) (3.10.11)\n",
      "Requirement already satisfied: requests<3,>=2 in /Users/ehimenagbonkhese/Downloads/220540069FPY/envv/lib/python3.9/site-packages (from langchain_community) (2.32.3)\n",
      "Requirement already satisfied: numpy>=1.26.2 in /Users/ehimenagbonkhese/Downloads/220540069FPY/envv/lib/python3.9/site-packages (from langchain_community) (1.26.4)\n",
      "Requirement already satisfied: dataclasses-json<0.7,>=0.5.7 in /Users/ehimenagbonkhese/Downloads/220540069FPY/envv/lib/python3.9/site-packages (from langchain_community) (0.6.7)\n",
      "Requirement already satisfied: httpx-sse<1.0.0,>=0.4.0 in /Users/ehimenagbonkhese/Downloads/220540069FPY/envv/lib/python3.9/site-packages (from langchain_community) (0.4.0)\n",
      "Requirement already satisfied: langchain<1.0.0,>=0.3.25 in /Users/ehimenagbonkhese/Downloads/220540069FPY/envv/lib/python3.9/site-packages (from langchain_community) (0.3.25)\n",
      "Requirement already satisfied: yarl<2.0,>=1.12.0 in /Users/ehimenagbonkhese/Downloads/220540069FPY/envv/lib/python3.9/site-packages (from aiohttp<4.0.0,>=3.8.3->langchain_community) (1.20.0)\n",
      "Requirement already satisfied: frozenlist>=1.1.1 in /Users/ehimenagbonkhese/Downloads/220540069FPY/envv/lib/python3.9/site-packages (from aiohttp<4.0.0,>=3.8.3->langchain_community) (1.6.0)\n",
      "Requirement already satisfied: multidict<7.0,>=4.5 in /Users/ehimenagbonkhese/Downloads/220540069FPY/envv/lib/python3.9/site-packages (from aiohttp<4.0.0,>=3.8.3->langchain_community) (6.4.3)\n",
      "Requirement already satisfied: async-timeout<6.0,>=4.0 in /Users/ehimenagbonkhese/Downloads/220540069FPY/envv/lib/python3.9/site-packages (from aiohttp<4.0.0,>=3.8.3->langchain_community) (4.0.3)\n",
      "Requirement already satisfied: aiohappyeyeballs>=2.3.0 in /Users/ehimenagbonkhese/Downloads/220540069FPY/envv/lib/python3.9/site-packages (from aiohttp<4.0.0,>=3.8.3->langchain_community) (2.6.1)\n",
      "Requirement already satisfied: attrs>=17.3.0 in /Users/ehimenagbonkhese/Downloads/220540069FPY/envv/lib/python3.9/site-packages (from aiohttp<4.0.0,>=3.8.3->langchain_community) (25.3.0)\n",
      "Requirement already satisfied: aiosignal>=1.1.2 in /Users/ehimenagbonkhese/Downloads/220540069FPY/envv/lib/python3.9/site-packages (from aiohttp<4.0.0,>=3.8.3->langchain_community) (1.3.2)\n",
      "Requirement already satisfied: marshmallow<4.0.0,>=3.18.0 in /Users/ehimenagbonkhese/Downloads/220540069FPY/envv/lib/python3.9/site-packages (from dataclasses-json<0.7,>=0.5.7->langchain_community) (3.26.1)\n",
      "Requirement already satisfied: typing-inspect<1,>=0.4.0 in /Users/ehimenagbonkhese/Downloads/220540069FPY/envv/lib/python3.9/site-packages (from dataclasses-json<0.7,>=0.5.7->langchain_community) (0.9.0)\n",
      "Requirement already satisfied: langchain-text-splitters<1.0.0,>=0.3.8 in /Users/ehimenagbonkhese/Downloads/220540069FPY/envv/lib/python3.9/site-packages (from langchain<1.0.0,>=0.3.25->langchain_community) (0.3.8)\n",
      "Requirement already satisfied: pydantic<3.0.0,>=2.7.4 in /Users/ehimenagbonkhese/Downloads/220540069FPY/envv/lib/python3.9/site-packages (from langchain<1.0.0,>=0.3.25->langchain_community) (2.11.4)\n",
      "Requirement already satisfied: typing-extensions>=4.7 in /Users/ehimenagbonkhese/Downloads/220540069FPY/envv/lib/python3.9/site-packages (from langchain-core<1.0.0,>=0.3.59->langchain_community) (4.13.2)\n",
      "Requirement already satisfied: jsonpatch<2.0,>=1.33 in /Users/ehimenagbonkhese/Downloads/220540069FPY/envv/lib/python3.9/site-packages (from langchain-core<1.0.0,>=0.3.59->langchain_community) (1.33)\n",
      "Requirement already satisfied: packaging<25,>=23.2 in /Users/ehimenagbonkhese/Downloads/220540069FPY/envv/lib/python3.9/site-packages (from langchain-core<1.0.0,>=0.3.59->langchain_community) (24.2)\n",
      "Requirement already satisfied: jsonpointer>=1.9 in /Users/ehimenagbonkhese/Downloads/220540069FPY/envv/lib/python3.9/site-packages (from jsonpatch<2.0,>=1.33->langchain-core<1.0.0,>=0.3.59->langchain_community) (3.0.0)\n",
      "Requirement already satisfied: httpx<1,>=0.23.0 in /Users/ehimenagbonkhese/Downloads/220540069FPY/envv/lib/python3.9/site-packages (from langsmith<0.4,>=0.1.125->langchain_community) (0.28.1)\n",
      "Requirement already satisfied: orjson<4.0.0,>=3.9.14 in /Users/ehimenagbonkhese/Downloads/220540069FPY/envv/lib/python3.9/site-packages (from langsmith<0.4,>=0.1.125->langchain_community) (3.10.18)\n",
      "Requirement already satisfied: zstandard<0.24.0,>=0.23.0 in /Users/ehimenagbonkhese/Downloads/220540069FPY/envv/lib/python3.9/site-packages (from langsmith<0.4,>=0.1.125->langchain_community) (0.23.0)\n",
      "Requirement already satisfied: requests-toolbelt<2.0.0,>=1.0.0 in /Users/ehimenagbonkhese/Downloads/220540069FPY/envv/lib/python3.9/site-packages (from langsmith<0.4,>=0.1.125->langchain_community) (1.0.0)\n",
      "Requirement already satisfied: certifi in /Users/ehimenagbonkhese/Downloads/220540069FPY/envv/lib/python3.9/site-packages (from httpx<1,>=0.23.0->langsmith<0.4,>=0.1.125->langchain_community) (2025.4.26)\n",
      "Requirement already satisfied: idna in /Users/ehimenagbonkhese/Downloads/220540069FPY/envv/lib/python3.9/site-packages (from httpx<1,>=0.23.0->langsmith<0.4,>=0.1.125->langchain_community) (3.10)\n",
      "Requirement already satisfied: httpcore==1.* in /Users/ehimenagbonkhese/Downloads/220540069FPY/envv/lib/python3.9/site-packages (from httpx<1,>=0.23.0->langsmith<0.4,>=0.1.125->langchain_community) (1.0.9)\n",
      "Requirement already satisfied: anyio in /Users/ehimenagbonkhese/Downloads/220540069FPY/envv/lib/python3.9/site-packages (from httpx<1,>=0.23.0->langsmith<0.4,>=0.1.125->langchain_community) (4.9.0)\n",
      "Requirement already satisfied: h11>=0.16 in /Users/ehimenagbonkhese/Downloads/220540069FPY/envv/lib/python3.9/site-packages (from httpcore==1.*->httpx<1,>=0.23.0->langsmith<0.4,>=0.1.125->langchain_community) (0.16.0)\n",
      "Requirement already satisfied: typing-inspection>=0.4.0 in /Users/ehimenagbonkhese/Downloads/220540069FPY/envv/lib/python3.9/site-packages (from pydantic<3.0.0,>=2.7.4->langchain<1.0.0,>=0.3.25->langchain_community) (0.4.0)\n",
      "Requirement already satisfied: pydantic-core==2.33.2 in /Users/ehimenagbonkhese/Downloads/220540069FPY/envv/lib/python3.9/site-packages (from pydantic<3.0.0,>=2.7.4->langchain<1.0.0,>=0.3.25->langchain_community) (2.33.2)\n",
      "Requirement already satisfied: annotated-types>=0.6.0 in /Users/ehimenagbonkhese/Downloads/220540069FPY/envv/lib/python3.9/site-packages (from pydantic<3.0.0,>=2.7.4->langchain<1.0.0,>=0.3.25->langchain_community) (0.7.0)\n",
      "Requirement already satisfied: python-dotenv>=0.21.0 in /Users/ehimenagbonkhese/Downloads/220540069FPY/envv/lib/python3.9/site-packages (from pydantic-settings<3.0.0,>=2.4.0->langchain_community) (1.1.0)\n",
      "Requirement already satisfied: charset-normalizer<4,>=2 in /Users/ehimenagbonkhese/Downloads/220540069FPY/envv/lib/python3.9/site-packages (from requests<3,>=2->langchain_community) (3.4.2)\n",
      "Requirement already satisfied: urllib3<3,>=1.21.1 in /Users/ehimenagbonkhese/Downloads/220540069FPY/envv/lib/python3.9/site-packages (from requests<3,>=2->langchain_community) (2.4.0)\n",
      "Requirement already satisfied: greenlet>=1 in /Users/ehimenagbonkhese/Downloads/220540069FPY/envv/lib/python3.9/site-packages (from SQLAlchemy<3,>=1.4->langchain_community) (3.2.2)\n",
      "Requirement already satisfied: mypy-extensions>=0.3.0 in /Users/ehimenagbonkhese/Downloads/220540069FPY/envv/lib/python3.9/site-packages (from typing-inspect<1,>=0.4.0->dataclasses-json<0.7,>=0.5.7->langchain_community) (1.1.0)\n",
      "Requirement already satisfied: propcache>=0.2.1 in /Users/ehimenagbonkhese/Downloads/220540069FPY/envv/lib/python3.9/site-packages (from yarl<2.0,>=1.12.0->aiohttp<4.0.0,>=3.8.3->langchain_community) (0.3.1)\n",
      "Requirement already satisfied: sniffio>=1.1 in /Users/ehimenagbonkhese/Downloads/220540069FPY/envv/lib/python3.9/site-packages (from anyio->httpx<1,>=0.23.0->langsmith<0.4,>=0.1.125->langchain_community) (1.3.1)\n",
      "Requirement already satisfied: exceptiongroup>=1.0.2 in /Users/ehimenagbonkhese/Downloads/220540069FPY/envv/lib/python3.9/site-packages (from anyio->httpx<1,>=0.23.0->langsmith<0.4,>=0.1.125->langchain_community) (1.3.0)\n",
      "\u001b[33mWARNING: You are using pip version 21.2.4; however, version 25.1.1 is available.\n",
      "You should consider upgrading via the '/Users/ehimenagbonkhese/Downloads/220540069FPY/envv/bin/python -m pip install --upgrade pip' command.\u001b[0m\n",
      "Note: you may need to restart the kernel to use updated packages.\n",
      "Requirement already satisfied: langchain_openai in /Users/ehimenagbonkhese/Downloads/220540069FPY/envv/lib/python3.9/site-packages (0.3.16)\n",
      "Requirement already satisfied: openai<2.0.0,>=1.68.2 in /Users/ehimenagbonkhese/Downloads/220540069FPY/envv/lib/python3.9/site-packages (from langchain_openai) (1.78.1)\n",
      "Requirement already satisfied: tiktoken<1,>=0.7 in /Users/ehimenagbonkhese/Downloads/220540069FPY/envv/lib/python3.9/site-packages (from langchain_openai) (0.9.0)\n",
      "Requirement already satisfied: langchain-core<1.0.0,>=0.3.58 in /Users/ehimenagbonkhese/Downloads/220540069FPY/envv/lib/python3.9/site-packages (from langchain_openai) (0.3.59)\n",
      "Requirement already satisfied: packaging<25,>=23.2 in /Users/ehimenagbonkhese/Downloads/220540069FPY/envv/lib/python3.9/site-packages (from langchain-core<1.0.0,>=0.3.58->langchain_openai) (24.2)\n",
      "Requirement already satisfied: tenacity!=8.4.0,<10.0.0,>=8.1.0 in /Users/ehimenagbonkhese/Downloads/220540069FPY/envv/lib/python3.9/site-packages (from langchain-core<1.0.0,>=0.3.58->langchain_openai) (9.1.2)\n",
      "Requirement already satisfied: typing-extensions>=4.7 in /Users/ehimenagbonkhese/Downloads/220540069FPY/envv/lib/python3.9/site-packages (from langchain-core<1.0.0,>=0.3.58->langchain_openai) (4.13.2)\n",
      "Requirement already satisfied: langsmith<0.4,>=0.1.125 in /Users/ehimenagbonkhese/Downloads/220540069FPY/envv/lib/python3.9/site-packages (from langchain-core<1.0.0,>=0.3.58->langchain_openai) (0.3.42)\n",
      "Requirement already satisfied: pydantic<3.0.0,>=2.5.2 in /Users/ehimenagbonkhese/Downloads/220540069FPY/envv/lib/python3.9/site-packages (from langchain-core<1.0.0,>=0.3.58->langchain_openai) (2.11.4)\n",
      "Requirement already satisfied: PyYAML>=5.3 in /Users/ehimenagbonkhese/Downloads/220540069FPY/envv/lib/python3.9/site-packages (from langchain-core<1.0.0,>=0.3.58->langchain_openai) (6.0.2)\n",
      "Requirement already satisfied: jsonpatch<2.0,>=1.33 in /Users/ehimenagbonkhese/Downloads/220540069FPY/envv/lib/python3.9/site-packages (from langchain-core<1.0.0,>=0.3.58->langchain_openai) (1.33)\n",
      "Requirement already satisfied: jsonpointer>=1.9 in /Users/ehimenagbonkhese/Downloads/220540069FPY/envv/lib/python3.9/site-packages (from jsonpatch<2.0,>=1.33->langchain-core<1.0.0,>=0.3.58->langchain_openai) (3.0.0)\n",
      "Requirement already satisfied: zstandard<0.24.0,>=0.23.0 in /Users/ehimenagbonkhese/Downloads/220540069FPY/envv/lib/python3.9/site-packages (from langsmith<0.4,>=0.1.125->langchain-core<1.0.0,>=0.3.58->langchain_openai) (0.23.0)\n",
      "Requirement already satisfied: requests-toolbelt<2.0.0,>=1.0.0 in /Users/ehimenagbonkhese/Downloads/220540069FPY/envv/lib/python3.9/site-packages (from langsmith<0.4,>=0.1.125->langchain-core<1.0.0,>=0.3.58->langchain_openai) (1.0.0)\n",
      "Requirement already satisfied: orjson<4.0.0,>=3.9.14 in /Users/ehimenagbonkhese/Downloads/220540069FPY/envv/lib/python3.9/site-packages (from langsmith<0.4,>=0.1.125->langchain-core<1.0.0,>=0.3.58->langchain_openai) (3.10.18)\n",
      "Requirement already satisfied: httpx<1,>=0.23.0 in /Users/ehimenagbonkhese/Downloads/220540069FPY/envv/lib/python3.9/site-packages (from langsmith<0.4,>=0.1.125->langchain-core<1.0.0,>=0.3.58->langchain_openai) (0.28.1)\n",
      "Requirement already satisfied: requests<3,>=2 in /Users/ehimenagbonkhese/Downloads/220540069FPY/envv/lib/python3.9/site-packages (from langsmith<0.4,>=0.1.125->langchain-core<1.0.0,>=0.3.58->langchain_openai) (2.32.3)\n",
      "Requirement already satisfied: certifi in /Users/ehimenagbonkhese/Downloads/220540069FPY/envv/lib/python3.9/site-packages (from httpx<1,>=0.23.0->langsmith<0.4,>=0.1.125->langchain-core<1.0.0,>=0.3.58->langchain_openai) (2025.4.26)\n",
      "Requirement already satisfied: idna in /Users/ehimenagbonkhese/Downloads/220540069FPY/envv/lib/python3.9/site-packages (from httpx<1,>=0.23.0->langsmith<0.4,>=0.1.125->langchain-core<1.0.0,>=0.3.58->langchain_openai) (3.10)\n",
      "Requirement already satisfied: httpcore==1.* in /Users/ehimenagbonkhese/Downloads/220540069FPY/envv/lib/python3.9/site-packages (from httpx<1,>=0.23.0->langsmith<0.4,>=0.1.125->langchain-core<1.0.0,>=0.3.58->langchain_openai) (1.0.9)\n",
      "Requirement already satisfied: anyio in /Users/ehimenagbonkhese/Downloads/220540069FPY/envv/lib/python3.9/site-packages (from httpx<1,>=0.23.0->langsmith<0.4,>=0.1.125->langchain-core<1.0.0,>=0.3.58->langchain_openai) (4.9.0)\n",
      "Requirement already satisfied: h11>=0.16 in /Users/ehimenagbonkhese/Downloads/220540069FPY/envv/lib/python3.9/site-packages (from httpcore==1.*->httpx<1,>=0.23.0->langsmith<0.4,>=0.1.125->langchain-core<1.0.0,>=0.3.58->langchain_openai) (0.16.0)\n",
      "Requirement already satisfied: sniffio in /Users/ehimenagbonkhese/Downloads/220540069FPY/envv/lib/python3.9/site-packages (from openai<2.0.0,>=1.68.2->langchain_openai) (1.3.1)\n",
      "Requirement already satisfied: tqdm>4 in /Users/ehimenagbonkhese/Downloads/220540069FPY/envv/lib/python3.9/site-packages (from openai<2.0.0,>=1.68.2->langchain_openai) (4.67.1)\n",
      "Requirement already satisfied: jiter<1,>=0.4.0 in /Users/ehimenagbonkhese/Downloads/220540069FPY/envv/lib/python3.9/site-packages (from openai<2.0.0,>=1.68.2->langchain_openai) (0.9.0)\n",
      "Requirement already satisfied: distro<2,>=1.7.0 in /Users/ehimenagbonkhese/Downloads/220540069FPY/envv/lib/python3.9/site-packages (from openai<2.0.0,>=1.68.2->langchain_openai) (1.9.0)\n",
      "Requirement already satisfied: exceptiongroup>=1.0.2 in /Users/ehimenagbonkhese/Downloads/220540069FPY/envv/lib/python3.9/site-packages (from anyio->httpx<1,>=0.23.0->langsmith<0.4,>=0.1.125->langchain-core<1.0.0,>=0.3.58->langchain_openai) (1.3.0)\n",
      "Requirement already satisfied: typing-inspection>=0.4.0 in /Users/ehimenagbonkhese/Downloads/220540069FPY/envv/lib/python3.9/site-packages (from pydantic<3.0.0,>=2.5.2->langchain-core<1.0.0,>=0.3.58->langchain_openai) (0.4.0)\n",
      "Requirement already satisfied: pydantic-core==2.33.2 in /Users/ehimenagbonkhese/Downloads/220540069FPY/envv/lib/python3.9/site-packages (from pydantic<3.0.0,>=2.5.2->langchain-core<1.0.0,>=0.3.58->langchain_openai) (2.33.2)\n",
      "Requirement already satisfied: annotated-types>=0.6.0 in /Users/ehimenagbonkhese/Downloads/220540069FPY/envv/lib/python3.9/site-packages (from pydantic<3.0.0,>=2.5.2->langchain-core<1.0.0,>=0.3.58->langchain_openai) (0.7.0)\n",
      "Requirement already satisfied: urllib3<3,>=1.21.1 in /Users/ehimenagbonkhese/Downloads/220540069FPY/envv/lib/python3.9/site-packages (from requests<3,>=2->langsmith<0.4,>=0.1.125->langchain-core<1.0.0,>=0.3.58->langchain_openai) (2.4.0)\n",
      "Requirement already satisfied: charset-normalizer<4,>=2 in /Users/ehimenagbonkhese/Downloads/220540069FPY/envv/lib/python3.9/site-packages (from requests<3,>=2->langsmith<0.4,>=0.1.125->langchain-core<1.0.0,>=0.3.58->langchain_openai) (3.4.2)\n",
      "Requirement already satisfied: regex>=2022.1.18 in /Users/ehimenagbonkhese/Downloads/220540069FPY/envv/lib/python3.9/site-packages (from tiktoken<1,>=0.7->langchain_openai) (2024.11.6)\n",
      "\u001b[33mWARNING: You are using pip version 21.2.4; however, version 25.1.1 is available.\n",
      "You should consider upgrading via the '/Users/ehimenagbonkhese/Downloads/220540069FPY/envv/bin/python -m pip install --upgrade pip' command.\u001b[0m\n",
      "Note: you may need to restart the kernel to use updated packages.\n",
      "Requirement already satisfied: langchain_core in /Users/ehimenagbonkhese/Downloads/220540069FPY/envv/lib/python3.9/site-packages (0.3.59)\n",
      "Requirement already satisfied: langsmith<0.4,>=0.1.125 in /Users/ehimenagbonkhese/Downloads/220540069FPY/envv/lib/python3.9/site-packages (from langchain_core) (0.3.42)\n",
      "Requirement already satisfied: typing-extensions>=4.7 in /Users/ehimenagbonkhese/Downloads/220540069FPY/envv/lib/python3.9/site-packages (from langchain_core) (4.13.2)\n",
      "Requirement already satisfied: PyYAML>=5.3 in /Users/ehimenagbonkhese/Downloads/220540069FPY/envv/lib/python3.9/site-packages (from langchain_core) (6.0.2)\n",
      "Requirement already satisfied: packaging<25,>=23.2 in /Users/ehimenagbonkhese/Downloads/220540069FPY/envv/lib/python3.9/site-packages (from langchain_core) (24.2)\n",
      "Requirement already satisfied: tenacity!=8.4.0,<10.0.0,>=8.1.0 in /Users/ehimenagbonkhese/Downloads/220540069FPY/envv/lib/python3.9/site-packages (from langchain_core) (9.1.2)\n",
      "Requirement already satisfied: jsonpatch<2.0,>=1.33 in /Users/ehimenagbonkhese/Downloads/220540069FPY/envv/lib/python3.9/site-packages (from langchain_core) (1.33)\n",
      "Requirement already satisfied: pydantic<3.0.0,>=2.5.2 in /Users/ehimenagbonkhese/Downloads/220540069FPY/envv/lib/python3.9/site-packages (from langchain_core) (2.11.4)\n",
      "Requirement already satisfied: jsonpointer>=1.9 in /Users/ehimenagbonkhese/Downloads/220540069FPY/envv/lib/python3.9/site-packages (from jsonpatch<2.0,>=1.33->langchain_core) (3.0.0)\n",
      "Requirement already satisfied: orjson<4.0.0,>=3.9.14 in /Users/ehimenagbonkhese/Downloads/220540069FPY/envv/lib/python3.9/site-packages (from langsmith<0.4,>=0.1.125->langchain_core) (3.10.18)\n",
      "Requirement already satisfied: zstandard<0.24.0,>=0.23.0 in /Users/ehimenagbonkhese/Downloads/220540069FPY/envv/lib/python3.9/site-packages (from langsmith<0.4,>=0.1.125->langchain_core) (0.23.0)\n",
      "Requirement already satisfied: requests-toolbelt<2.0.0,>=1.0.0 in /Users/ehimenagbonkhese/Downloads/220540069FPY/envv/lib/python3.9/site-packages (from langsmith<0.4,>=0.1.125->langchain_core) (1.0.0)\n",
      "Requirement already satisfied: httpx<1,>=0.23.0 in /Users/ehimenagbonkhese/Downloads/220540069FPY/envv/lib/python3.9/site-packages (from langsmith<0.4,>=0.1.125->langchain_core) (0.28.1)\n",
      "Requirement already satisfied: requests<3,>=2 in /Users/ehimenagbonkhese/Downloads/220540069FPY/envv/lib/python3.9/site-packages (from langsmith<0.4,>=0.1.125->langchain_core) (2.32.3)\n",
      "Requirement already satisfied: certifi in /Users/ehimenagbonkhese/Downloads/220540069FPY/envv/lib/python3.9/site-packages (from httpx<1,>=0.23.0->langsmith<0.4,>=0.1.125->langchain_core) (2025.4.26)\n",
      "Requirement already satisfied: httpcore==1.* in /Users/ehimenagbonkhese/Downloads/220540069FPY/envv/lib/python3.9/site-packages (from httpx<1,>=0.23.0->langsmith<0.4,>=0.1.125->langchain_core) (1.0.9)\n",
      "Requirement already satisfied: idna in /Users/ehimenagbonkhese/Downloads/220540069FPY/envv/lib/python3.9/site-packages (from httpx<1,>=0.23.0->langsmith<0.4,>=0.1.125->langchain_core) (3.10)\n",
      "Requirement already satisfied: anyio in /Users/ehimenagbonkhese/Downloads/220540069FPY/envv/lib/python3.9/site-packages (from httpx<1,>=0.23.0->langsmith<0.4,>=0.1.125->langchain_core) (4.9.0)\n",
      "Requirement already satisfied: h11>=0.16 in /Users/ehimenagbonkhese/Downloads/220540069FPY/envv/lib/python3.9/site-packages (from httpcore==1.*->httpx<1,>=0.23.0->langsmith<0.4,>=0.1.125->langchain_core) (0.16.0)\n",
      "Requirement already satisfied: typing-inspection>=0.4.0 in /Users/ehimenagbonkhese/Downloads/220540069FPY/envv/lib/python3.9/site-packages (from pydantic<3.0.0,>=2.5.2->langchain_core) (0.4.0)\n",
      "Requirement already satisfied: annotated-types>=0.6.0 in /Users/ehimenagbonkhese/Downloads/220540069FPY/envv/lib/python3.9/site-packages (from pydantic<3.0.0,>=2.5.2->langchain_core) (0.7.0)\n",
      "Requirement already satisfied: pydantic-core==2.33.2 in /Users/ehimenagbonkhese/Downloads/220540069FPY/envv/lib/python3.9/site-packages (from pydantic<3.0.0,>=2.5.2->langchain_core) (2.33.2)\n",
      "Requirement already satisfied: charset-normalizer<4,>=2 in /Users/ehimenagbonkhese/Downloads/220540069FPY/envv/lib/python3.9/site-packages (from requests<3,>=2->langsmith<0.4,>=0.1.125->langchain_core) (3.4.2)\n",
      "Requirement already satisfied: urllib3<3,>=1.21.1 in /Users/ehimenagbonkhese/Downloads/220540069FPY/envv/lib/python3.9/site-packages (from requests<3,>=2->langsmith<0.4,>=0.1.125->langchain_core) (2.4.0)\n",
      "Requirement already satisfied: exceptiongroup>=1.0.2 in /Users/ehimenagbonkhese/Downloads/220540069FPY/envv/lib/python3.9/site-packages (from anyio->httpx<1,>=0.23.0->langsmith<0.4,>=0.1.125->langchain_core) (1.3.0)\n",
      "Requirement already satisfied: sniffio>=1.1 in /Users/ehimenagbonkhese/Downloads/220540069FPY/envv/lib/python3.9/site-packages (from anyio->httpx<1,>=0.23.0->langsmith<0.4,>=0.1.125->langchain_core) (1.3.1)\n",
      "\u001b[33mWARNING: You are using pip version 21.2.4; however, version 25.1.1 is available.\n",
      "You should consider upgrading via the '/Users/ehimenagbonkhese/Downloads/220540069FPY/envv/bin/python -m pip install --upgrade pip' command.\u001b[0m\n",
      "Note: you may need to restart the kernel to use updated packages.\n",
      "Requirement already satisfied: sentence_transformers in /Users/ehimenagbonkhese/Downloads/220540069FPY/envv/lib/python3.9/site-packages (4.1.0)\n",
      "Requirement already satisfied: tqdm in /Users/ehimenagbonkhese/Downloads/220540069FPY/envv/lib/python3.9/site-packages (from sentence_transformers) (4.67.1)\n",
      "Requirement already satisfied: scikit-learn in /Users/ehimenagbonkhese/Downloads/220540069FPY/envv/lib/python3.9/site-packages (from sentence_transformers) (1.6.1)\n",
      "Requirement already satisfied: transformers<5.0.0,>=4.41.0 in /Users/ehimenagbonkhese/Downloads/220540069FPY/envv/lib/python3.9/site-packages (from sentence_transformers) (4.51.3)\n",
      "Requirement already satisfied: typing_extensions>=4.5.0 in /Users/ehimenagbonkhese/Downloads/220540069FPY/envv/lib/python3.9/site-packages (from sentence_transformers) (4.13.2)\n",
      "Requirement already satisfied: torch>=1.11.0 in /Users/ehimenagbonkhese/Downloads/220540069FPY/envv/lib/python3.9/site-packages (from sentence_transformers) (2.2.2)\n",
      "Requirement already satisfied: huggingface-hub>=0.20.0 in /Users/ehimenagbonkhese/Downloads/220540069FPY/envv/lib/python3.9/site-packages (from sentence_transformers) (0.31.2)\n",
      "Requirement already satisfied: Pillow in /Users/ehimenagbonkhese/Downloads/220540069FPY/envv/lib/python3.9/site-packages (from sentence_transformers) (11.2.1)\n",
      "Requirement already satisfied: scipy in /Users/ehimenagbonkhese/Downloads/220540069FPY/envv/lib/python3.9/site-packages (from sentence_transformers) (1.13.1)\n",
      "Requirement already satisfied: packaging>=20.9 in /Users/ehimenagbonkhese/Downloads/220540069FPY/envv/lib/python3.9/site-packages (from huggingface-hub>=0.20.0->sentence_transformers) (24.2)\n",
      "Requirement already satisfied: pyyaml>=5.1 in /Users/ehimenagbonkhese/Downloads/220540069FPY/envv/lib/python3.9/site-packages (from huggingface-hub>=0.20.0->sentence_transformers) (6.0.2)\n",
      "Requirement already satisfied: requests in /Users/ehimenagbonkhese/Downloads/220540069FPY/envv/lib/python3.9/site-packages (from huggingface-hub>=0.20.0->sentence_transformers) (2.32.3)\n",
      "Requirement already satisfied: filelock in /Users/ehimenagbonkhese/Downloads/220540069FPY/envv/lib/python3.9/site-packages (from huggingface-hub>=0.20.0->sentence_transformers) (3.18.0)\n",
      "Requirement already satisfied: fsspec>=2023.5.0 in /Users/ehimenagbonkhese/Downloads/220540069FPY/envv/lib/python3.9/site-packages (from huggingface-hub>=0.20.0->sentence_transformers) (2025.3.2)\n",
      "Requirement already satisfied: sympy in /Users/ehimenagbonkhese/Downloads/220540069FPY/envv/lib/python3.9/site-packages (from torch>=1.11.0->sentence_transformers) (1.14.0)\n",
      "Requirement already satisfied: networkx in /Users/ehimenagbonkhese/Downloads/220540069FPY/envv/lib/python3.9/site-packages (from torch>=1.11.0->sentence_transformers) (3.2.1)\n",
      "Requirement already satisfied: jinja2 in /Users/ehimenagbonkhese/Downloads/220540069FPY/envv/lib/python3.9/site-packages (from torch>=1.11.0->sentence_transformers) (3.1.6)\n",
      "Requirement already satisfied: numpy>=1.17 in /Users/ehimenagbonkhese/Downloads/220540069FPY/envv/lib/python3.9/site-packages (from transformers<5.0.0,>=4.41.0->sentence_transformers) (1.26.4)\n",
      "Requirement already satisfied: regex!=2019.12.17 in /Users/ehimenagbonkhese/Downloads/220540069FPY/envv/lib/python3.9/site-packages (from transformers<5.0.0,>=4.41.0->sentence_transformers) (2024.11.6)\n",
      "Requirement already satisfied: tokenizers<0.22,>=0.21 in /Users/ehimenagbonkhese/Downloads/220540069FPY/envv/lib/python3.9/site-packages (from transformers<5.0.0,>=4.41.0->sentence_transformers) (0.21.1)\n",
      "Requirement already satisfied: safetensors>=0.4.3 in /Users/ehimenagbonkhese/Downloads/220540069FPY/envv/lib/python3.9/site-packages (from transformers<5.0.0,>=4.41.0->sentence_transformers) (0.5.3)\n",
      "Requirement already satisfied: MarkupSafe>=2.0 in /Users/ehimenagbonkhese/Downloads/220540069FPY/envv/lib/python3.9/site-packages (from jinja2->torch>=1.11.0->sentence_transformers) (3.0.2)\n",
      "Requirement already satisfied: urllib3<3,>=1.21.1 in /Users/ehimenagbonkhese/Downloads/220540069FPY/envv/lib/python3.9/site-packages (from requests->huggingface-hub>=0.20.0->sentence_transformers) (2.4.0)\n",
      "Requirement already satisfied: charset-normalizer<4,>=2 in /Users/ehimenagbonkhese/Downloads/220540069FPY/envv/lib/python3.9/site-packages (from requests->huggingface-hub>=0.20.0->sentence_transformers) (3.4.2)\n",
      "Requirement already satisfied: idna<4,>=2.5 in /Users/ehimenagbonkhese/Downloads/220540069FPY/envv/lib/python3.9/site-packages (from requests->huggingface-hub>=0.20.0->sentence_transformers) (3.10)\n",
      "Requirement already satisfied: certifi>=2017.4.17 in /Users/ehimenagbonkhese/Downloads/220540069FPY/envv/lib/python3.9/site-packages (from requests->huggingface-hub>=0.20.0->sentence_transformers) (2025.4.26)\n",
      "Requirement already satisfied: joblib>=1.2.0 in /Users/ehimenagbonkhese/Downloads/220540069FPY/envv/lib/python3.9/site-packages (from scikit-learn->sentence_transformers) (1.5.0)\n",
      "Requirement already satisfied: threadpoolctl>=3.1.0 in /Users/ehimenagbonkhese/Downloads/220540069FPY/envv/lib/python3.9/site-packages (from scikit-learn->sentence_transformers) (3.6.0)\n",
      "Requirement already satisfied: mpmath<1.4,>=1.1.0 in /Users/ehimenagbonkhese/Downloads/220540069FPY/envv/lib/python3.9/site-packages (from sympy->torch>=1.11.0->sentence_transformers) (1.3.0)\n",
      "\u001b[33mWARNING: You are using pip version 21.2.4; however, version 25.1.1 is available.\n",
      "You should consider upgrading via the '/Users/ehimenagbonkhese/Downloads/220540069FPY/envv/bin/python3 -m pip install --upgrade pip' command.\u001b[0m\n",
      "\u001b[33mWARNING: You are using pip version 21.2.4; however, version 25.1.1 is available.\n",
      "You should consider upgrading via the '/Users/ehimenagbonkhese/Downloads/220540069FPY/envv/bin/python3 -m pip install --upgrade pip' command.\u001b[0m\n",
      "Requirement already satisfied: langchain_pinecone in /Users/ehimenagbonkhese/Downloads/220540069FPY/envv/lib/python3.9/site-packages (0.2.6)\n",
      "Requirement already satisfied: langchain-core<1.0.0,>=0.3.34 in /Users/ehimenagbonkhese/Downloads/220540069FPY/envv/lib/python3.9/site-packages (from langchain_pinecone) (0.3.59)\n",
      "Requirement already satisfied: aiohttp<3.11,>=3.10 in /Users/ehimenagbonkhese/Downloads/220540069FPY/envv/lib/python3.9/site-packages (from langchain_pinecone) (3.10.11)\n",
      "Requirement already satisfied: pinecone[async]<7.0.0,>=6.0.0 in /Users/ehimenagbonkhese/Downloads/220540069FPY/envv/lib/python3.9/site-packages (from langchain_pinecone) (6.0.2)\n",
      "Requirement already satisfied: langchain-tests<1.0.0,>=0.3.7 in /Users/ehimenagbonkhese/Downloads/220540069FPY/envv/lib/python3.9/site-packages (from langchain_pinecone) (0.3.19)\n",
      "Requirement already satisfied: numpy>=1.26.4 in /Users/ehimenagbonkhese/Downloads/220540069FPY/envv/lib/python3.9/site-packages (from langchain_pinecone) (1.26.4)\n",
      "Requirement already satisfied: multidict<7.0,>=4.5 in /Users/ehimenagbonkhese/Downloads/220540069FPY/envv/lib/python3.9/site-packages (from aiohttp<3.11,>=3.10->langchain_pinecone) (6.4.3)\n",
      "Requirement already satisfied: frozenlist>=1.1.1 in /Users/ehimenagbonkhese/Downloads/220540069FPY/envv/lib/python3.9/site-packages (from aiohttp<3.11,>=3.10->langchain_pinecone) (1.6.0)\n",
      "Requirement already satisfied: attrs>=17.3.0 in /Users/ehimenagbonkhese/Downloads/220540069FPY/envv/lib/python3.9/site-packages (from aiohttp<3.11,>=3.10->langchain_pinecone) (25.3.0)\n",
      "Requirement already satisfied: yarl<2.0,>=1.12.0 in /Users/ehimenagbonkhese/Downloads/220540069FPY/envv/lib/python3.9/site-packages (from aiohttp<3.11,>=3.10->langchain_pinecone) (1.20.0)\n",
      "Requirement already satisfied: aiosignal>=1.1.2 in /Users/ehimenagbonkhese/Downloads/220540069FPY/envv/lib/python3.9/site-packages (from aiohttp<3.11,>=3.10->langchain_pinecone) (1.3.2)\n",
      "Requirement already satisfied: async-timeout<6.0,>=4.0 in /Users/ehimenagbonkhese/Downloads/220540069FPY/envv/lib/python3.9/site-packages (from aiohttp<3.11,>=3.10->langchain_pinecone) (4.0.3)\n",
      "Requirement already satisfied: aiohappyeyeballs>=2.3.0 in /Users/ehimenagbonkhese/Downloads/220540069FPY/envv/lib/python3.9/site-packages (from aiohttp<3.11,>=3.10->langchain_pinecone) (2.6.1)\n",
      "Requirement already satisfied: jsonpatch<2.0,>=1.33 in /Users/ehimenagbonkhese/Downloads/220540069FPY/envv/lib/python3.9/site-packages (from langchain-core<1.0.0,>=0.3.34->langchain_pinecone) (1.33)\n",
      "Requirement already satisfied: pydantic<3.0.0,>=2.5.2 in /Users/ehimenagbonkhese/Downloads/220540069FPY/envv/lib/python3.9/site-packages (from langchain-core<1.0.0,>=0.3.34->langchain_pinecone) (2.11.4)\n",
      "Requirement already satisfied: typing-extensions>=4.7 in /Users/ehimenagbonkhese/Downloads/220540069FPY/envv/lib/python3.9/site-packages (from langchain-core<1.0.0,>=0.3.34->langchain_pinecone) (4.13.2)\n",
      "Requirement already satisfied: packaging<25,>=23.2 in /Users/ehimenagbonkhese/Downloads/220540069FPY/envv/lib/python3.9/site-packages (from langchain-core<1.0.0,>=0.3.34->langchain_pinecone) (24.2)\n",
      "Requirement already satisfied: langsmith<0.4,>=0.1.125 in /Users/ehimenagbonkhese/Downloads/220540069FPY/envv/lib/python3.9/site-packages (from langchain-core<1.0.0,>=0.3.34->langchain_pinecone) (0.3.42)\n",
      "Requirement already satisfied: tenacity!=8.4.0,<10.0.0,>=8.1.0 in /Users/ehimenagbonkhese/Downloads/220540069FPY/envv/lib/python3.9/site-packages (from langchain-core<1.0.0,>=0.3.34->langchain_pinecone) (9.1.2)\n",
      "Requirement already satisfied: PyYAML>=5.3 in /Users/ehimenagbonkhese/Downloads/220540069FPY/envv/lib/python3.9/site-packages (from langchain-core<1.0.0,>=0.3.34->langchain_pinecone) (6.0.2)\n",
      "Requirement already satisfied: jsonpointer>=1.9 in /Users/ehimenagbonkhese/Downloads/220540069FPY/envv/lib/python3.9/site-packages (from jsonpatch<2.0,>=1.33->langchain-core<1.0.0,>=0.3.34->langchain_pinecone) (3.0.0)\n",
      "Requirement already satisfied: pytest-socket<1,>=0.6.0 in /Users/ehimenagbonkhese/Downloads/220540069FPY/envv/lib/python3.9/site-packages (from langchain-tests<1.0.0,>=0.3.7->langchain_pinecone) (0.7.0)\n",
      "Requirement already satisfied: pytest<9,>=7 in /Users/ehimenagbonkhese/Downloads/220540069FPY/envv/lib/python3.9/site-packages (from langchain-tests<1.0.0,>=0.3.7->langchain_pinecone) (8.3.5)\n",
      "Requirement already satisfied: pytest-asyncio<1,>=0.20 in /Users/ehimenagbonkhese/Downloads/220540069FPY/envv/lib/python3.9/site-packages (from langchain-tests<1.0.0,>=0.3.7->langchain_pinecone) (0.26.0)\n",
      "Requirement already satisfied: syrupy<5,>=4 in /Users/ehimenagbonkhese/Downloads/220540069FPY/envv/lib/python3.9/site-packages (from langchain-tests<1.0.0,>=0.3.7->langchain_pinecone) (4.9.1)\n",
      "Requirement already satisfied: httpx<1,>=0.25.0 in /Users/ehimenagbonkhese/Downloads/220540069FPY/envv/lib/python3.9/site-packages (from langchain-tests<1.0.0,>=0.3.7->langchain_pinecone) (0.28.1)\n",
      "Requirement already satisfied: anyio in /Users/ehimenagbonkhese/Downloads/220540069FPY/envv/lib/python3.9/site-packages (from httpx<1,>=0.25.0->langchain-tests<1.0.0,>=0.3.7->langchain_pinecone) (4.9.0)\n",
      "Requirement already satisfied: httpcore==1.* in /Users/ehimenagbonkhese/Downloads/220540069FPY/envv/lib/python3.9/site-packages (from httpx<1,>=0.25.0->langchain-tests<1.0.0,>=0.3.7->langchain_pinecone) (1.0.9)\n",
      "Requirement already satisfied: idna in /Users/ehimenagbonkhese/Downloads/220540069FPY/envv/lib/python3.9/site-packages (from httpx<1,>=0.25.0->langchain-tests<1.0.0,>=0.3.7->langchain_pinecone) (3.10)\n",
      "Requirement already satisfied: certifi in /Users/ehimenagbonkhese/Downloads/220540069FPY/envv/lib/python3.9/site-packages (from httpx<1,>=0.25.0->langchain-tests<1.0.0,>=0.3.7->langchain_pinecone) (2025.4.26)\n",
      "Requirement already satisfied: h11>=0.16 in /Users/ehimenagbonkhese/Downloads/220540069FPY/envv/lib/python3.9/site-packages (from httpcore==1.*->httpx<1,>=0.25.0->langchain-tests<1.0.0,>=0.3.7->langchain_pinecone) (0.16.0)\n",
      "Requirement already satisfied: requests-toolbelt<2.0.0,>=1.0.0 in /Users/ehimenagbonkhese/Downloads/220540069FPY/envv/lib/python3.9/site-packages (from langsmith<0.4,>=0.1.125->langchain-core<1.0.0,>=0.3.34->langchain_pinecone) (1.0.0)\n",
      "Requirement already satisfied: orjson<4.0.0,>=3.9.14 in /Users/ehimenagbonkhese/Downloads/220540069FPY/envv/lib/python3.9/site-packages (from langsmith<0.4,>=0.1.125->langchain-core<1.0.0,>=0.3.34->langchain_pinecone) (3.10.18)\n",
      "Requirement already satisfied: zstandard<0.24.0,>=0.23.0 in /Users/ehimenagbonkhese/Downloads/220540069FPY/envv/lib/python3.9/site-packages (from langsmith<0.4,>=0.1.125->langchain-core<1.0.0,>=0.3.34->langchain_pinecone) (0.23.0)\n",
      "Requirement already satisfied: requests<3,>=2 in /Users/ehimenagbonkhese/Downloads/220540069FPY/envv/lib/python3.9/site-packages (from langsmith<0.4,>=0.1.125->langchain-core<1.0.0,>=0.3.34->langchain_pinecone) (2.32.3)\n",
      "\u001b[33mWARNING: pinecone 6.0.2 does not provide the extra 'async'\u001b[0m\n",
      "Requirement already satisfied: pinecone-plugin-interface<0.0.8,>=0.0.7 in /Users/ehimenagbonkhese/Downloads/220540069FPY/envv/lib/python3.9/site-packages (from pinecone[async]<7.0.0,>=6.0.0->langchain_pinecone) (0.0.7)\n",
      "Requirement already satisfied: python-dateutil>=2.5.3 in /Users/ehimenagbonkhese/Downloads/220540069FPY/envv/lib/python3.9/site-packages (from pinecone[async]<7.0.0,>=6.0.0->langchain_pinecone) (2.9.0.post0)\n",
      "Requirement already satisfied: urllib3>=1.26.0 in /Users/ehimenagbonkhese/Downloads/220540069FPY/envv/lib/python3.9/site-packages (from pinecone[async]<7.0.0,>=6.0.0->langchain_pinecone) (2.4.0)\n",
      "Requirement already satisfied: annotated-types>=0.6.0 in /Users/ehimenagbonkhese/Downloads/220540069FPY/envv/lib/python3.9/site-packages (from pydantic<3.0.0,>=2.5.2->langchain-core<1.0.0,>=0.3.34->langchain_pinecone) (0.7.0)\n",
      "Requirement already satisfied: pydantic-core==2.33.2 in /Users/ehimenagbonkhese/Downloads/220540069FPY/envv/lib/python3.9/site-packages (from pydantic<3.0.0,>=2.5.2->langchain-core<1.0.0,>=0.3.34->langchain_pinecone) (2.33.2)\n",
      "Requirement already satisfied: typing-inspection>=0.4.0 in /Users/ehimenagbonkhese/Downloads/220540069FPY/envv/lib/python3.9/site-packages (from pydantic<3.0.0,>=2.5.2->langchain-core<1.0.0,>=0.3.34->langchain_pinecone) (0.4.0)\n",
      "Requirement already satisfied: exceptiongroup>=1.0.0rc8 in /Users/ehimenagbonkhese/Downloads/220540069FPY/envv/lib/python3.9/site-packages (from pytest<9,>=7->langchain-tests<1.0.0,>=0.3.7->langchain_pinecone) (1.3.0)\n",
      "Requirement already satisfied: iniconfig in /Users/ehimenagbonkhese/Downloads/220540069FPY/envv/lib/python3.9/site-packages (from pytest<9,>=7->langchain-tests<1.0.0,>=0.3.7->langchain_pinecone) (2.1.0)\n",
      "Requirement already satisfied: pluggy<2,>=1.5 in /Users/ehimenagbonkhese/Downloads/220540069FPY/envv/lib/python3.9/site-packages (from pytest<9,>=7->langchain-tests<1.0.0,>=0.3.7->langchain_pinecone) (1.5.0)\n",
      "Requirement already satisfied: tomli>=1 in /Users/ehimenagbonkhese/Downloads/220540069FPY/envv/lib/python3.9/site-packages (from pytest<9,>=7->langchain-tests<1.0.0,>=0.3.7->langchain_pinecone) (2.2.1)\n",
      "Requirement already satisfied: six>=1.5 in /Users/ehimenagbonkhese/Downloads/220540069FPY/envv/lib/python3.9/site-packages (from python-dateutil>=2.5.3->pinecone[async]<7.0.0,>=6.0.0->langchain_pinecone) (1.17.0)\n",
      "Requirement already satisfied: charset-normalizer<4,>=2 in /Users/ehimenagbonkhese/Downloads/220540069FPY/envv/lib/python3.9/site-packages (from requests<3,>=2->langsmith<0.4,>=0.1.125->langchain-core<1.0.0,>=0.3.34->langchain_pinecone) (3.4.2)\n",
      "Requirement already satisfied: propcache>=0.2.1 in /Users/ehimenagbonkhese/Downloads/220540069FPY/envv/lib/python3.9/site-packages (from yarl<2.0,>=1.12.0->aiohttp<3.11,>=3.10->langchain_pinecone) (0.3.1)\n",
      "Requirement already satisfied: sniffio>=1.1 in /Users/ehimenagbonkhese/Downloads/220540069FPY/envv/lib/python3.9/site-packages (from anyio->httpx<1,>=0.25.0->langchain-tests<1.0.0,>=0.3.7->langchain_pinecone) (1.3.1)\n",
      "\u001b[33mWARNING: You are using pip version 21.2.4; however, version 25.1.1 is available.\n",
      "You should consider upgrading via the '/Users/ehimenagbonkhese/Downloads/220540069FPY/envv/bin/python -m pip install --upgrade pip' command.\u001b[0m\n",
      "Note: you may need to restart the kernel to use updated packages.\n"
     ]
    }
   ],
   "source": [
    "%pip install pymupdf4llm\n",
    "%pip install langchain\n",
    "%pip install langchain_community\n",
    "%pip install langchain_openai\n",
    "%pip install langchain_core\n",
    "!pip install sentence_transformers\n",
    "!pip install -qU\\\n",
    "pinecone-client==3.0.0\n",
    "%pip install langchain_pinecone"
   ]
  },
  {
   "cell_type": "markdown",
   "metadata": {
    "id": "y08GloZo2C5t"
   },
   "source": [
    "#needed API keys - deleted during submission, dont hesitate to ask for any of them"
   ]
  },
  {
   "cell_type": "code",
   "execution_count": 1,
   "metadata": {
    "id": "LGs4KysZiRm9"
   },
   "outputs": [],
   "source": [
    "from dotenv import load_dotenv\n",
    "import os\n",
    "load_dotenv('secrets.env')\n",
    "\n",
    "PINECONE_APIKEY = os.getenv('PINECONE_APIKEY')\n",
    "OPEN_AI_APIKEY = os.getenv('OPEN_AI_APIKEY')"
   ]
  },
  {
   "cell_type": "markdown",
   "metadata": {
    "id": "B-U1llPJ84yd"
   },
   "source": []
  },
  {
   "cell_type": "code",
   "execution_count": 2,
   "metadata": {
    "id": "u5NWHRtu84Xi"
   },
   "outputs": [
    {
     "ename": "ModuleNotFoundError",
     "evalue": "No module named 'pymupdf4llm'",
     "output_type": "error",
     "traceback": [
      "\u001b[0;31m---------------------------------------------------------------------------\u001b[0m",
      "\u001b[0;31mModuleNotFoundError\u001b[0m                       Traceback (most recent call last)",
      "Cell \u001b[0;32mIn[2], line 1\u001b[0m\n\u001b[0;32m----> 1\u001b[0m \u001b[38;5;28;01mimport\u001b[39;00m\u001b[38;5;250m \u001b[39m\u001b[38;5;21;01mpymupdf4llm\u001b[39;00m\n\u001b[1;32m      2\u001b[0m \u001b[38;5;28;01mimport\u001b[39;00m\u001b[38;5;250m \u001b[39m\u001b[38;5;21;01mpathlib\u001b[39;00m\n\u001b[1;32m      3\u001b[0m \u001b[38;5;28;01mfrom\u001b[39;00m\u001b[38;5;250m \u001b[39m\u001b[38;5;21;01mlangchain\u001b[39;00m\u001b[38;5;21;01m.\u001b[39;00m\u001b[38;5;21;01mtext_splitter\u001b[39;00m\u001b[38;5;250m \u001b[39m\u001b[38;5;28;01mimport\u001b[39;00m RecursiveCharacterTextSplitter, MarkdownHeaderTextSplitter, MarkdownTextSplitter\n",
      "\u001b[0;31mModuleNotFoundError\u001b[0m: No module named 'pymupdf4llm'"
     ]
    }
   ],
   "source": [
    "import pymupdf4llm\n",
    "import pathlib\n",
    "from langchain.text_splitter import RecursiveCharacterTextSplitter, MarkdownHeaderTextSplitter, MarkdownTextSplitter\n",
    "from langchain_core.documents import Document\n",
    "\n",
    "EECSHB = pymupdf4llm.to_markdown(\"QMUL_EECS_student_handbook_2024-25.pdf\")\n",
    "\n",
    "pathlib.Path(\"handbook.md\").write_bytes(EECSHB.encode())\n",
    "header = MarkdownHeaderTextSplitter(headers_to_split_on=[(\"##\", 'header1'),(\"###\",'header2')], strip_headers = False)"
   ]
  },
  {
   "cell_type": "markdown",
   "metadata": {
    "id": "9cGtXPduA52x"
   },
   "source": [
    "#chunks are split into headers"
   ]
  },
  {
   "cell_type": "code",
   "execution_count": null,
   "metadata": {
    "colab": {
     "base_uri": "https://localhost:8080/"
    },
    "executionInfo": {
     "elapsed": 41,
     "status": "ok",
     "timestamp": 1746535555449,
     "user": {
      "displayName": "ehi men",
      "userId": "16322716033303718414"
     },
     "user_tz": -60
    },
    "id": "F6O5bfoJA5_L",
    "outputId": "4562761c-50ad-4e99-e538-20b47c39dc63"
   },
   "outputs": [
    {
     "name": "stdout",
     "output_type": "stream",
     "text": [
      "39\n"
     ]
    }
   ],
   "source": [
    "chunks = header.split_text(EECSHB)\n",
    "print(len(chunks))\n"
   ]
  },
  {
   "cell_type": "markdown",
   "metadata": {
    "id": "bGgrqIOTBkdF"
   },
   "source": [
    "#Measuring token lengths and finding chunks with token lengths higher than 250"
   ]
  },
  {
   "cell_type": "code",
   "execution_count": null,
   "metadata": {
    "colab": {
     "base_uri": "https://localhost:8080/"
    },
    "executionInfo": {
     "elapsed": 759,
     "status": "ok",
     "timestamp": 1746535557279,
     "user": {
      "displayName": "ehi men",
      "userId": "16322716033303718414"
     },
     "user_tz": -60
    },
    "id": "ord7r46IBkr5",
    "outputId": "ec4975fb-2383-4f3f-b79a-19f59d684eb2"
   },
   "outputs": [
    {
     "name": "stdout",
     "output_type": "stream",
     "text": [
      "1330\n",
      "2\n",
      "8\n",
      "9\n",
      "10\n",
      "11\n",
      "12\n",
      "13\n",
      "14\n",
      "15\n",
      "16\n",
      "17\n",
      "18\n",
      "19\n",
      "21\n",
      "22\n",
      "24\n",
      "25\n",
      "26\n",
      "27\n",
      "28\n",
      "30\n",
      "32\n",
      "34\n",
      "35\n",
      "36\n",
      "<built-in function len>\n"
     ]
    }
   ],
   "source": [
    "import tiktoken\n",
    "\n",
    "def measure_token_length(text):\n",
    "    encoding = tiktoken.encoding_for_model(\"gpt-4\")\n",
    "    tokens = encoding.encode(text)\n",
    "    return len(tokens)\n",
    "x = 0\n",
    "for i in range(len(chunks)):\n",
    "  b = measure_token_length(chunks[i].page_content)\n",
    "  if b > x :\n",
    "    x = b\n",
    "\n",
    "print(x)\n",
    "\n",
    "#this finds chunks of text where thetoken size exceeds 250\n",
    "def chunks_overflow(chunks:list[Document]):\n",
    "  largechunks = []\n",
    "  for i in range(len(chunks)):\n",
    "    if measure_token_length(chunks[i].page_content) > 250:\n",
    "      largechunks.append(i)\n",
    "\n",
    "  return largechunks\n",
    "\n",
    "largechunk = chunks_overflow(chunks)\n",
    "for chunk in largechunk:\n",
    "  print(chunk)\n",
    "\n",
    "print(len)\n"
   ]
  },
  {
   "cell_type": "code",
   "execution_count": null,
   "metadata": {
    "colab": {
     "base_uri": "https://localhost:8080/"
    },
    "executionInfo": {
     "elapsed": 197,
     "status": "ok",
     "timestamp": 1746535570699,
     "user": {
      "displayName": "ehi men",
      "userId": "16322716033303718414"
     },
     "user_tz": -60
    },
    "id": "w9CaEX0M8M6i",
    "outputId": "e1362fb5-f75d-4e26-d069-5291d7a23eef"
   },
   "outputs": [
    {
     "name": "stdout",
     "output_type": "stream",
     "text": [
      "192\n",
      "217\n"
     ]
    }
   ],
   "source": [
    "def reduce_chunk_size(chunks, largechunks):\n",
    "  splitter = RecursiveCharacterTextSplitter(chunk_size = 500, chunk_overlap = 80)\n",
    "  tempchunks = []\n",
    "  for index in largechunks:\n",
    "    metadata = chunks[index].metadata\n",
    "    tempchunks = splitter.split_text(chunks[index].page_content)\n",
    "    tempchunks1 = set(tempchunks)\n",
    "    chunks.remove(chunks[index])\n",
    "    for i in tempchunks1:\n",
    "      chunks.append(Document(page_content=i, metadata=metadata))\n",
    "  return chunks\n",
    "\n",
    "def measure_max_token_length(chunks):\n",
    "  x = 0\n",
    "  for i in range(len(chunks)):\n",
    "    b = measure_token_length(chunks[i].page_content)\n",
    "\n",
    "    if b > x :\n",
    "      x = b\n",
    "  return x\n",
    "\n",
    "def reduce_chunk_size2(chunks,largechunk):\n",
    "  x = measure_max_token_length(chunks)\n",
    "  while (x > 300):\n",
    "    chunks = reduce_chunk_size(chunks, largechunk)\n",
    "    x = measure_max_token_length(chunks)\n",
    "  return chunks\n",
    "\n",
    "\n",
    "\n",
    "chunks = reduce_chunk_size2(chunks, largechunk)\n",
    "print(measure_max_token_length(chunks))\n",
    "print(len(chunks))\n",
    "\n",
    "\n"
   ]
  },
  {
   "cell_type": "markdown",
   "metadata": {
    "id": "wf_6xfx7AS0e"
   },
   "source": []
  },
  {
   "cell_type": "markdown",
   "metadata": {
    "id": "osgZ6ZVXOIe6"
   },
   "source": [
    "# Initializing the Pinecone database"
   ]
  },
  {
   "cell_type": "code",
   "execution_count": 6,
   "metadata": {
    "colab": {
     "base_uri": "https://localhost:8080/",
     "height": 378
    },
    "executionInfo": {
     "elapsed": 182,
     "status": "error",
     "timestamp": 1746969587147,
     "user": {
      "displayName": "ehi men",
      "userId": "16322716033303718414"
     },
     "user_tz": -60
    },
    "id": "q9i3T5PkOGu2",
    "outputId": "c78bab9e-35a8-438c-a284-9201422e9096"
   },
   "outputs": [],
   "source": [
    "from pinecone import Pinecone, ServerlessSpec\n",
    "from dotenv import load_dotenv\n",
    "import os\n",
    "load_dotenv('../secrets.env')\n",
    "\n",
    "PINECONE_APIKEY = os.getenv('PINECONE_APIKEY')\n",
    "\n",
    "pc = Pinecone(api_key=PINECONE_APIKEY)\n",
    "#vectorz = pc.create_index(name=\"qmuldocs\",dimension=384, metric = \"cosine\", spec = ServerlessSpec(cloud = 'aws', region = 'us-east-1'))\n",
    "vectors = pc.Index(\"qmuldocs\")"
   ]
  },
  {
   "cell_type": "markdown",
   "metadata": {
    "id": "H9uanXVXL0fO"
   },
   "source": []
  },
  {
   "cell_type": "code",
   "execution_count": null,
   "metadata": {
    "id": "Cnd5yEPM5rYA"
   },
   "outputs": [],
   "source": []
  },
  {
   "cell_type": "code",
   "execution_count": 1,
   "metadata": {
    "executionInfo": {
     "elapsed": 1,
     "status": "aborted",
     "timestamp": 1746969587152,
     "user": {
      "displayName": "ehi men",
      "userId": "16322716033303718414"
     },
     "user_tz": -60
    },
    "id": "vBuyVCZNL0oB"
   },
   "outputs": [
    {
     "name": "stderr",
     "output_type": "stream",
     "text": [
      "/var/folders/sr/vn0049l90w7166zkfc32zdgr0000gp/T/ipykernel_3347/1755198584.py:3: LangChainDeprecationWarning: The class `HuggingFaceEmbeddings` was deprecated in LangChain 0.2.2 and will be removed in 1.0. An updated version of the class exists in the :class:`~langchain-huggingface package and should be used instead. To use it run `pip install -U :class:`~langchain-huggingface` and import as `from :class:`~langchain_huggingface import HuggingFaceEmbeddings``.\n",
      "  Embedder = HuggingFaceEmbeddings(model_name=\"all-MiniLM-L6-v2\")\n",
      "/Users/ehimenagbonkhese/Downloads/220540069FPY/env/lib/python3.9/site-packages/tqdm/auto.py:21: TqdmWarning: IProgress not found. Please update jupyter and ipywidgets. See https://ipywidgets.readthedocs.io/en/stable/user_install.html\n",
      "  from .autonotebook import tqdm as notebook_tqdm\n"
     ]
    }
   ],
   "source": [
    "from langchain.embeddings import HuggingFaceEmbeddings\n",
    "\n",
    "Embedder = HuggingFaceEmbeddings(model_name=\"all-MiniLM-L6-v2\")"
   ]
  },
  {
   "cell_type": "code",
   "execution_count": 7,
   "metadata": {
    "executionInfo": {
     "elapsed": 1,
     "status": "aborted",
     "timestamp": 1746969587157,
     "user": {
      "displayName": "ehi men",
      "userId": "16322716033303718414"
     },
     "user_tz": -60
    },
    "id": "oy0YUeDZkL_T"
   },
   "outputs": [],
   "source": [
    "from langchain_pinecone import PineconeVectorStore\n",
    "vectors = PineconeVectorStore(index=vectors,embedding=Embedder)"
   ]
  },
  {
   "cell_type": "markdown",
   "metadata": {
    "id": "J7Z_vwguQOv4"
   },
   "source": []
  },
  {
   "cell_type": "code",
   "execution_count": null,
   "metadata": {
    "colab": {
     "base_uri": "https://localhost:8080/"
    },
    "executionInfo": {
     "elapsed": 16,
     "status": "ok",
     "timestamp": 1746535622374,
     "user": {
      "displayName": "ehi men",
      "userId": "16322716033303718414"
     },
     "user_tz": -60
    },
    "id": "FmLUNU3wTZ2F",
    "outputId": "af57eacd-330c-4ea8-ba8f-0cb17949991c"
   },
   "outputs": [
    {
     "name": "stdout",
     "output_type": "stream",
     "text": [
      "217\n"
     ]
    }
   ],
   "source": [
    "EECS_ids = []\n",
    "def create_ids(chunks,name):\n",
    "  ids = []\n",
    "  for i in range(len(chunks)):\n",
    "    ids.append(name + str(i))\n",
    "\n",
    "  return ids\n",
    "\n",
    "EECS_ids = create_ids(chunks, \"EECS_Student_handbook_\")\n",
    "\n",
    "\n",
    "EECS_link = \"https://qmplus.qmul.ac.uk/mod/book/tool/print/index.php?id=2692210\"\n",
    "\n",
    "EECS_metadata = []\n",
    "def create_metadata_with_link(chunks,name, link):\n",
    "  metadata = []\n",
    "  for chunk in chunks:\n",
    "    chunk.metadata[\"link\"] = link\n",
    "    chunk.metadata[\"name\"] = name\n",
    "    metadata.append(chunk.metadata)\n",
    "  return metadata\n",
    "\n",
    "EECS_metadata = create_metadata_with_link(chunks,\"EECS Student handbook\",EECS_link)\n",
    "\n",
    "print(len(EECS_metadata))\n",
    "\n",
    "\n"
   ]
  },
  {
   "cell_type": "code",
   "execution_count": null,
   "metadata": {
    "id": "HEOzvNG7BDok"
   },
   "outputs": [],
   "source": [
    "#cleaning the database due to re-adding chunks after fixing  chunking function\n",
    "vectors.delete(delete_all = True, namespace=\"General\")"
   ]
  },
  {
   "cell_type": "code",
   "execution_count": null,
   "metadata": {
    "colab": {
     "base_uri": "https://localhost:8080/"
    },
    "collapsed": true,
    "executionInfo": {
     "elapsed": 22716,
     "status": "ok",
     "timestamp": 1746535646393,
     "user": {
      "displayName": "ehi men",
      "userId": "16322716033303718414"
     },
     "user_tz": -60
    },
    "id": "WdYTcB1Lkrhc",
    "outputId": "364e46bb-0628-4127-8f2c-cb2c87d89e68"
   },
   "outputs": [
    {
     "data": {
      "text/plain": [
       "['EECS_Student_handbook_0',\n",
       " 'EECS_Student_handbook_1',\n",
       " 'EECS_Student_handbook_2',\n",
       " 'EECS_Student_handbook_3',\n",
       " 'EECS_Student_handbook_4',\n",
       " 'EECS_Student_handbook_5',\n",
       " 'EECS_Student_handbook_6',\n",
       " 'EECS_Student_handbook_7',\n",
       " 'EECS_Student_handbook_8',\n",
       " 'EECS_Student_handbook_9',\n",
       " 'EECS_Student_handbook_10',\n",
       " 'EECS_Student_handbook_11',\n",
       " 'EECS_Student_handbook_12',\n",
       " 'EECS_Student_handbook_13',\n",
       " 'EECS_Student_handbook_14',\n",
       " 'EECS_Student_handbook_15',\n",
       " 'EECS_Student_handbook_16',\n",
       " 'EECS_Student_handbook_17',\n",
       " 'EECS_Student_handbook_18',\n",
       " 'EECS_Student_handbook_19',\n",
       " 'EECS_Student_handbook_20',\n",
       " 'EECS_Student_handbook_21',\n",
       " 'EECS_Student_handbook_22',\n",
       " 'EECS_Student_handbook_23',\n",
       " 'EECS_Student_handbook_24',\n",
       " 'EECS_Student_handbook_25',\n",
       " 'EECS_Student_handbook_26',\n",
       " 'EECS_Student_handbook_27',\n",
       " 'EECS_Student_handbook_28',\n",
       " 'EECS_Student_handbook_29',\n",
       " 'EECS_Student_handbook_30',\n",
       " 'EECS_Student_handbook_31',\n",
       " 'EECS_Student_handbook_32',\n",
       " 'EECS_Student_handbook_33',\n",
       " 'EECS_Student_handbook_34',\n",
       " 'EECS_Student_handbook_35',\n",
       " 'EECS_Student_handbook_36',\n",
       " 'EECS_Student_handbook_37',\n",
       " 'EECS_Student_handbook_38',\n",
       " 'EECS_Student_handbook_39',\n",
       " 'EECS_Student_handbook_40',\n",
       " 'EECS_Student_handbook_41',\n",
       " 'EECS_Student_handbook_42',\n",
       " 'EECS_Student_handbook_43',\n",
       " 'EECS_Student_handbook_44',\n",
       " 'EECS_Student_handbook_45',\n",
       " 'EECS_Student_handbook_46',\n",
       " 'EECS_Student_handbook_47',\n",
       " 'EECS_Student_handbook_48',\n",
       " 'EECS_Student_handbook_49',\n",
       " 'EECS_Student_handbook_50',\n",
       " 'EECS_Student_handbook_51',\n",
       " 'EECS_Student_handbook_52',\n",
       " 'EECS_Student_handbook_53',\n",
       " 'EECS_Student_handbook_54',\n",
       " 'EECS_Student_handbook_55',\n",
       " 'EECS_Student_handbook_56',\n",
       " 'EECS_Student_handbook_57',\n",
       " 'EECS_Student_handbook_58',\n",
       " 'EECS_Student_handbook_59',\n",
       " 'EECS_Student_handbook_60',\n",
       " 'EECS_Student_handbook_61',\n",
       " 'EECS_Student_handbook_62',\n",
       " 'EECS_Student_handbook_63',\n",
       " 'EECS_Student_handbook_64',\n",
       " 'EECS_Student_handbook_65',\n",
       " 'EECS_Student_handbook_66',\n",
       " 'EECS_Student_handbook_67',\n",
       " 'EECS_Student_handbook_68',\n",
       " 'EECS_Student_handbook_69',\n",
       " 'EECS_Student_handbook_70',\n",
       " 'EECS_Student_handbook_71',\n",
       " 'EECS_Student_handbook_72',\n",
       " 'EECS_Student_handbook_73',\n",
       " 'EECS_Student_handbook_74',\n",
       " 'EECS_Student_handbook_75',\n",
       " 'EECS_Student_handbook_76',\n",
       " 'EECS_Student_handbook_77',\n",
       " 'EECS_Student_handbook_78',\n",
       " 'EECS_Student_handbook_79',\n",
       " 'EECS_Student_handbook_80',\n",
       " 'EECS_Student_handbook_81',\n",
       " 'EECS_Student_handbook_82',\n",
       " 'EECS_Student_handbook_83',\n",
       " 'EECS_Student_handbook_84',\n",
       " 'EECS_Student_handbook_85',\n",
       " 'EECS_Student_handbook_86',\n",
       " 'EECS_Student_handbook_87',\n",
       " 'EECS_Student_handbook_88',\n",
       " 'EECS_Student_handbook_89',\n",
       " 'EECS_Student_handbook_90',\n",
       " 'EECS_Student_handbook_91',\n",
       " 'EECS_Student_handbook_92',\n",
       " 'EECS_Student_handbook_93',\n",
       " 'EECS_Student_handbook_94',\n",
       " 'EECS_Student_handbook_95',\n",
       " 'EECS_Student_handbook_96',\n",
       " 'EECS_Student_handbook_97',\n",
       " 'EECS_Student_handbook_98',\n",
       " 'EECS_Student_handbook_99',\n",
       " 'EECS_Student_handbook_100',\n",
       " 'EECS_Student_handbook_101',\n",
       " 'EECS_Student_handbook_102',\n",
       " 'EECS_Student_handbook_103',\n",
       " 'EECS_Student_handbook_104',\n",
       " 'EECS_Student_handbook_105',\n",
       " 'EECS_Student_handbook_106',\n",
       " 'EECS_Student_handbook_107',\n",
       " 'EECS_Student_handbook_108',\n",
       " 'EECS_Student_handbook_109',\n",
       " 'EECS_Student_handbook_110',\n",
       " 'EECS_Student_handbook_111',\n",
       " 'EECS_Student_handbook_112',\n",
       " 'EECS_Student_handbook_113',\n",
       " 'EECS_Student_handbook_114',\n",
       " 'EECS_Student_handbook_115',\n",
       " 'EECS_Student_handbook_116',\n",
       " 'EECS_Student_handbook_117',\n",
       " 'EECS_Student_handbook_118',\n",
       " 'EECS_Student_handbook_119',\n",
       " 'EECS_Student_handbook_120',\n",
       " 'EECS_Student_handbook_121',\n",
       " 'EECS_Student_handbook_122',\n",
       " 'EECS_Student_handbook_123',\n",
       " 'EECS_Student_handbook_124',\n",
       " 'EECS_Student_handbook_125',\n",
       " 'EECS_Student_handbook_126',\n",
       " 'EECS_Student_handbook_127',\n",
       " 'EECS_Student_handbook_128',\n",
       " 'EECS_Student_handbook_129',\n",
       " 'EECS_Student_handbook_130',\n",
       " 'EECS_Student_handbook_131',\n",
       " 'EECS_Student_handbook_132',\n",
       " 'EECS_Student_handbook_133',\n",
       " 'EECS_Student_handbook_134',\n",
       " 'EECS_Student_handbook_135',\n",
       " 'EECS_Student_handbook_136',\n",
       " 'EECS_Student_handbook_137',\n",
       " 'EECS_Student_handbook_138',\n",
       " 'EECS_Student_handbook_139',\n",
       " 'EECS_Student_handbook_140',\n",
       " 'EECS_Student_handbook_141',\n",
       " 'EECS_Student_handbook_142',\n",
       " 'EECS_Student_handbook_143',\n",
       " 'EECS_Student_handbook_144',\n",
       " 'EECS_Student_handbook_145',\n",
       " 'EECS_Student_handbook_146',\n",
       " 'EECS_Student_handbook_147',\n",
       " 'EECS_Student_handbook_148',\n",
       " 'EECS_Student_handbook_149',\n",
       " 'EECS_Student_handbook_150',\n",
       " 'EECS_Student_handbook_151',\n",
       " 'EECS_Student_handbook_152',\n",
       " 'EECS_Student_handbook_153',\n",
       " 'EECS_Student_handbook_154',\n",
       " 'EECS_Student_handbook_155',\n",
       " 'EECS_Student_handbook_156',\n",
       " 'EECS_Student_handbook_157',\n",
       " 'EECS_Student_handbook_158',\n",
       " 'EECS_Student_handbook_159',\n",
       " 'EECS_Student_handbook_160',\n",
       " 'EECS_Student_handbook_161',\n",
       " 'EECS_Student_handbook_162',\n",
       " 'EECS_Student_handbook_163',\n",
       " 'EECS_Student_handbook_164',\n",
       " 'EECS_Student_handbook_165',\n",
       " 'EECS_Student_handbook_166',\n",
       " 'EECS_Student_handbook_167',\n",
       " 'EECS_Student_handbook_168',\n",
       " 'EECS_Student_handbook_169',\n",
       " 'EECS_Student_handbook_170',\n",
       " 'EECS_Student_handbook_171',\n",
       " 'EECS_Student_handbook_172',\n",
       " 'EECS_Student_handbook_173',\n",
       " 'EECS_Student_handbook_174',\n",
       " 'EECS_Student_handbook_175',\n",
       " 'EECS_Student_handbook_176',\n",
       " 'EECS_Student_handbook_177',\n",
       " 'EECS_Student_handbook_178',\n",
       " 'EECS_Student_handbook_179',\n",
       " 'EECS_Student_handbook_180',\n",
       " 'EECS_Student_handbook_181',\n",
       " 'EECS_Student_handbook_182',\n",
       " 'EECS_Student_handbook_183',\n",
       " 'EECS_Student_handbook_184',\n",
       " 'EECS_Student_handbook_185',\n",
       " 'EECS_Student_handbook_186',\n",
       " 'EECS_Student_handbook_187',\n",
       " 'EECS_Student_handbook_188',\n",
       " 'EECS_Student_handbook_189',\n",
       " 'EECS_Student_handbook_190',\n",
       " 'EECS_Student_handbook_191',\n",
       " 'EECS_Student_handbook_192',\n",
       " 'EECS_Student_handbook_193',\n",
       " 'EECS_Student_handbook_194',\n",
       " 'EECS_Student_handbook_195',\n",
       " 'EECS_Student_handbook_196',\n",
       " 'EECS_Student_handbook_197',\n",
       " 'EECS_Student_handbook_198',\n",
       " 'EECS_Student_handbook_199',\n",
       " 'EECS_Student_handbook_200',\n",
       " 'EECS_Student_handbook_201',\n",
       " 'EECS_Student_handbook_202',\n",
       " 'EECS_Student_handbook_203',\n",
       " 'EECS_Student_handbook_204',\n",
       " 'EECS_Student_handbook_205',\n",
       " 'EECS_Student_handbook_206',\n",
       " 'EECS_Student_handbook_207',\n",
       " 'EECS_Student_handbook_208',\n",
       " 'EECS_Student_handbook_209',\n",
       " 'EECS_Student_handbook_210',\n",
       " 'EECS_Student_handbook_211',\n",
       " 'EECS_Student_handbook_212',\n",
       " 'EECS_Student_handbook_213',\n",
       " 'EECS_Student_handbook_214',\n",
       " 'EECS_Student_handbook_215',\n",
       " 'EECS_Student_handbook_216']"
      ]
     },
     "execution_count": 17,
     "metadata": {},
     "output_type": "execute_result"
    }
   ],
   "source": [
    "vectors.add_documents(documents=chunks, ids=EECS_ids, namespace = \"General\")"
   ]
  },
  {
   "cell_type": "code",
   "execution_count": 50,
   "metadata": {
    "colab": {
     "base_uri": "https://localhost:8080/"
    },
    "executionInfo": {
     "elapsed": 255,
     "status": "ok",
     "timestamp": 1746537530876,
     "user": {
      "displayName": "ehi men",
      "userId": "16322716033303718414"
     },
     "user_tz": -60
    },
    "id": "sBuHIWIYN62Y",
    "outputId": "12c73a10-75df-46d3-c8e8-186a1df23f2f"
   },
   "outputs": [
    {
     "name": "stdout",
     "output_type": "stream",
     "text": [
      "1\n",
      "page_content='overall pass for the module, but each module has its own specific assessment requirement.  \n",
      "Project modules are usually assessed by means of a project report and an oral examination (viva), including a demonstration of system  \n",
      "software where appropriate. Students should refer to the module web pages or ask the module organiser for details of the way in which  \n",
      "different coursework elements in a module contribute to the final module assessment.  \n",
      "**Module assessment hurdles**' metadata={'header1': '6. Writing and Assessment (web)', 'header2': '6.1. Assessment types', 'link': 'https://qmplus.qmul.ac.uk/mod/book/tool/print/index.php?id=2692210', 'name': 'EECS Student handbook'} [1]\n"
     ]
    }
   ],
   "source": [
    "question = \"what modules are in  year 1 of computer science Bsc(hons)\"\n",
    "\n",
    "x = vectors.similarity_search_with_score(question, k = 4, namespace = \"General\")\n",
    "#print(x[0][1])\n",
    "Generalcontext = vectors.similarity_search_with_score(question, k = 10, namespace = \"General\")\n",
    "\n",
    "allcontext = Generalcontext\n",
    "allcontext = [item for item in allcontext if item[1] > 0.5]\n",
    "allcontext = sorted(allcontext, key = lambda x: x[1],reverse = True)\n",
    "context = []\n",
    "if len(allcontext) > 0:\n",
    "    if 4 > len(allcontext):\n",
    "        context = [allcontext[i][0] for i in range(len(allcontext))]\n",
    "    else:\n",
    "        context = [allcontext[i][0] for i in range(len(4))]\n",
    "\n",
    "\n",
    "print(len(context))\n",
    "\n",
    "print(context[0],[1])\n"
   ]
  },
  {
   "cell_type": "code",
   "execution_count": null,
   "metadata": {
    "id": "ShtzgUqBuLl6"
   },
   "outputs": [],
   "source": []
  },
  {
   "cell_type": "markdown",
   "metadata": {
    "id": "3X7ykp6OAVem"
   },
   "source": [
    "Problem: duplicates were produced during the chunking process. This was due to a temporary store being persistent throughout the process. The problem was solved by clearing the store every pass"
   ]
  },
  {
   "cell_type": "code",
   "execution_count": null,
   "metadata": {
    "id": "puG3dleJAxEu"
   },
   "outputs": [],
   "source": [
    "from langchain.prompts import ChatPromptTemplate\n",
    "from langchain.schema.output_parser import StrOutputParser\n",
    "temp = \"please answer the following question {question} using the context {context}. You are an assistant in Queen mary's university of london and you are talking to a student, please use a friendly demeanor.\"\n",
    "prompt = ChatPromptTemplate.from_template(temp)\n"
   ]
  },
  {
   "cell_type": "code",
   "execution_count": null,
   "metadata": {
    "id": "Z8YlXhmLYB07"
   },
   "outputs": [],
   "source": [
    "from langchain_openai import ChatOpenAI\n",
    "\n",
    "llmodel = ChatOpenAI(model_name = 'gpt-4o', api_key=OPEN_AI_APIKEY)\n",
    "chain = prompt | llmodel | StrOutputParser()\n",
    "\n",
    "b = chain.invoke({\"context\":x, \"question\":question})\n",
    "print(b + \"\\n more information at: \" + x[0].metadata[\"link\"])"
   ]
  },
  {
   "cell_type": "code",
   "execution_count": null,
   "metadata": {
    "id": "cqTC7Sf_ULKf"
   },
   "outputs": [],
   "source": [
    "\n"
   ]
  }
 ],
 "metadata": {
  "colab": {
   "authorship_tag": "ABX9TyO7A2sRiagAjfE53ntVWxSo",
   "provenance": []
  },
  "kernelspec": {
   "display_name": "env",
   "language": "python",
   "name": "python3"
  },
  "language_info": {
   "codemirror_mode": {
    "name": "ipython",
    "version": 3
   },
   "file_extension": ".py",
   "mimetype": "text/x-python",
   "name": "python",
   "nbconvert_exporter": "python",
   "pygments_lexer": "ipython3",
   "version": "3.9.6"
  }
 },
 "nbformat": 4,
 "nbformat_minor": 0
}
