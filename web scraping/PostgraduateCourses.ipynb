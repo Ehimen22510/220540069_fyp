{
  "cells": [
    {
      "cell_type": "code",
      "execution_count": null,
      "metadata": {
        "id": "OKeIbelAB3Fc"
      },
      "outputs": [],
      "source": [
        "from bs4 import BeautifulSoup\n",
        "import requests\n",
        "#the Advanced computer science Msc link was used as a template for the scrapng algorithm\n",
        "page = requests.get('https://www.qmul.ac.uk/postgraduate/taught/coursefinder/courses/advanced-computer-science-msc/')\n",
        "soup = BeautifulSoup(page.text, \"html.parser\")"
      ]
    },
    {
      "cell_type": "code",
      "execution_count": 32,
      "metadata": {
        "colab": {
          "base_uri": "https://localhost:8080/"
        },
        "id": "dgy_rBTXSiBU",
        "outputId": "3f6caf25-3002-4861-d19a-cf850a7617a2"
      },
      "outputs": [
        {
          "name": "stdout",
          "output_type": "stream",
          "text": [
            "Advanced Computer Science MSc\n"
          ]
        }
      ],
      "source": [
        "header = soup.find('h1')\n",
        "header = header.text.strip()\n",
        "print(header)\n"
      ]
    },
    {
      "cell_type": "markdown",
      "metadata": {
        "id": "vUR0wiLwS9Jo"
      },
      "source": [
        "#overview"
      ]
    },
    {
      "cell_type": "code",
      "execution_count": 33,
      "metadata": {
        "id": "E6uPZSSHS8tO"
      },
      "outputs": [],
      "source": [
        "\n",
        "\n",
        "def generate_overview(soup,subject):\n",
        "  overview = soup.find('div', attrs = 'pgt-header__overview slat__container')\n",
        "  return ('Postgraduate \\n' + subject + '\\n' + overview.text.strip())\n",
        "\n"
      ]
    },
    {
      "cell_type": "code",
      "execution_count": 21,
      "metadata": {
        "colab": {
          "base_uri": "https://localhost:8080/"
        },
        "id": "w5zpiyKqkaiR",
        "outputId": "34a7c2e4-2501-4778-8256-126e8b40cb04"
      },
      "outputs": [
        {
          "name": "stdout",
          "output_type": "stream",
          "text": [
            "Postgraduate \n",
            "Advanced Computer Science MSc\n",
            "Introducing the MSc in Advanced Computer Science, where you can specialise in Software and Data Engineering or Interaction Design. Dive into cutting-edge topics like Machine Learning, Security and Interactive Systems Design. This programme equips graduates with essential skills in AI, Machine Learning and Human-Computer Interaction preparing you for an impactful career in today's tech-driven world.\n",
            "\n",
            "Offers two specialised streams: \"Software and Data Engineering\" and \"Interaction Design,\" preparing students for diverse career paths in AI, data science, and HCI.\n",
            "Multi-disciplinary approach, incorporating aspects of AI, Machine Learning, Cognitive Psychology, Logic, and Sociology, providing advanced study in conceptual analysis and technology development.\n",
            "Work with the most up-to-date technologies - each topic is backed up by our world-leading research centres and groups.\n",
            "This course is accredited by BCS, the Chartered Institute for IT professionals.\n"
          ]
        }
      ],
      "source": [
        "overview = generate_overview(soup,header)\n",
        "print(overview)"
      ]
    },
    {
      "cell_type": "markdown",
      "metadata": {
        "id": "veHsDlkslSu_"
      },
      "source": [
        "What you'll study + structure"
      ]
    },
    {
      "cell_type": "code",
      "execution_count": 34,
      "metadata": {
        "colab": {
          "base_uri": "https://localhost:8080/"
        },
        "id": "xfrLTqwolR0o",
        "outputId": "8ffdb1d8-a1d9-46db-a955-ab83c1364e25"
      },
      "outputs": [
        {
          "name": "stdout",
          "output_type": "stream",
          "text": [
            "Postgraduate Advanced Computer Science MSc\n",
            "Research project\n",
            "Examples of past project topics include: \n",
            "\n",
            "Design and implementation of a chess engine.\n",
            "Development of an application for people suffering with anxiety.\n",
            "Network sniffing and tiny fragment attack.\n",
            "Ros to unity point cloud communication and visualisation study in telerobotics.\n",
            "Information retrieval from TV series scripts for keyphrase extraction, text classification and dialogue modelling.\n",
            "Gesture to voice translation using MATLAB.\n",
            "Simulation of the behavior of bees with artificial life method.\n"
          ]
        }
      ],
      "source": [
        "structure = soup.find('div', attrs={'id':'course-study'})\n",
        "def generate_structure(soup,subject):\n",
        "  structure = []\n",
        "  structure_header = soup.find('h3')\n",
        "\n",
        "  study = structure_header.find_previous_siblings()\n",
        "  text = 'Postgraduate \\n' + subject + \"\\nWhat you'll study\"\n",
        "  for s in study:\n",
        "    text += '\\n' + s.text.strip()\n",
        "  structure.append(text)\n",
        "\n",
        "  course = structure_header.find_next_siblings()\n",
        "  text = subject + '\\n' + structure_header.text.strip()\n",
        "  for s in course:\n",
        "    text +='Postgraduate ' + '\\n' + s.text.strip()\n",
        "  structure.append(text)\n",
        "\n",
        "  assess = soup.find('h3', string='Assessment')\n",
        "  assess1 = assess.find_next_siblings()\n",
        "  text = subject + '\\n' + assess.text.strip()\n",
        "  for s in assess1:\n",
        "    text += 'Postgraduate ' + '\\n' + s.text.strip()\n",
        "  structure.append(text)\n",
        "\n",
        "  research = soup.find('h3', string='Research project')\n",
        "  if research != None:\n",
        "    research1 = research.find_next_siblings()\n",
        "    text = 'Postgraduate ' + subject + '\\n' + research.text.strip()\n",
        "    for s in research1:\n",
        "      text += '\\n' + s.text.strip()\n",
        "    structure.append(text)\n",
        "  else:\n",
        "    research = soup.find('h3', string='Dissertation')\n",
        "    if research != None:\n",
        "      research1 = research.find_next_siblings()\n",
        "      text = 'Postgraduate \\n' + subject + '\\n' + research.text.strip()\n",
        "      for s in research1:\n",
        "        text += '\\n' + s.text.strip()\n",
        "      structure.append(text)\n",
        "    else:\n",
        "      pass\n",
        "\n",
        "\n",
        "  return structure\n",
        "\n",
        "x = generate_structure(structure,header)\n",
        "print(x[3])\n"
      ]
    },
    {
      "cell_type": "markdown",
      "metadata": {
        "id": "-2ZxQS3fyLHZ"
      },
      "source": [
        "#teaching"
      ]
    },
    {
      "cell_type": "code",
      "execution_count": 36,
      "metadata": {
        "colab": {
          "base_uri": "https://localhost:8080/"
        },
        "id": "WLrIoENVyMPC",
        "outputId": "2fa0cff7-245c-495b-863c-8046576c018b"
      },
      "outputs": [
        {
          "name": "stdout",
          "output_type": "stream",
          "text": [
            "Postgraduate \n",
            "Advanced Computer Science MSc\n",
            "Teaching for all modules includes a combination of lectures, seminars and use of a virtual learning environment. Each module provides contact time with your lecturers, supported by lab work and directed further study.\n",
            "You will be assigned an Academic Advisor who will guide you in both academic and pastoral matters throughout your time at Queen Mary.\n",
            "Part-time study options mean that the number of modules taken is reduced per semester, with the full modules required to complete the programme spread over two academic years.\n"
          ]
        }
      ],
      "source": [
        "teach = soup.find('div', attrs={'id':'course-teaching'})\n",
        "def generate_teaching(soup,subject):\n",
        "  teaching = soup.find('div', attrs={'class':'grid__item grid__item--3/10'})\n",
        "  return 'Postgraduate \\n' + subject + '\\n' + teaching.text.strip()\n",
        "\n",
        "x = generate_teaching(soup=teach, subject = header)\n",
        "print(x)\n",
        "\n",
        "\n"
      ]
    },
    {
      "cell_type": "markdown",
      "metadata": {
        "id": "l5rEoI180NYU"
      },
      "source": [
        "#learning facilities"
      ]
    },
    {
      "cell_type": "code",
      "execution_count": 37,
      "metadata": {
        "colab": {
          "base_uri": "https://localhost:8080/"
        },
        "id": "VTjQDv7u0RAb",
        "outputId": "ec504a0f-5a09-4468-dd70-59fa54a64587"
      },
      "outputs": [
        {
          "name": "stdout",
          "output_type": "stream",
          "text": [
            "Postgraduate \n",
            "Advanced Computer Science MSc\n",
            "Facilities\n",
            "\n",
            "The School has excellent bespoke facilities, including:\n",
            "\n",
            "Augmented human interaction (AHI) laboratory\n",
            "Informatics teaching laboratory with 350 state-of-the-art computers\n",
            "Antenna measurement laboratory\n",
            "Media and arts technology studios (Performance lab, control room, listening/recording room)\n",
            "Robotics laboratory (ARQspace)\n",
            "\n",
            "\n",
            "Campus\n",
            "\n",
            "Teaching is based at Queen Mary’s main Mile End campus, one of the largest self-contained residential campuses in the capital. Our location in the heart of London’s East End offers a rich cultural environment.\n",
            "We have invested £105m in new facilities over the past five years to offer our students an exceptional learning environment. Recent developments include the £39m Graduate Centre, providing 7,700 square metres of learning and teaching space.\n",
            "The campus is 15 minutes from Central London by tube, where you will have access to many of the University of London’s facilities, such as the Senate House library.\n"
          ]
        }
      ],
      "source": [
        "learn = soup.find('div', attrs={'id':'course-learn'})\n",
        "def generate_learning(soup, subject):\n",
        "  learning = soup.find('div', attrs = {'class':'grid two-column'})\n",
        "  return 'Postgraduate \\n' + subject + '\\n' + learning.text.strip()\n",
        "learnn = generate_learning(learn,header)\n",
        "print(learnn)"
      ]
    },
    {
      "cell_type": "markdown",
      "metadata": {
        "id": "io2gIJH41Ujv"
      },
      "source": [
        "#career"
      ]
    },
    {
      "cell_type": "code",
      "execution_count": 38,
      "metadata": {
        "colab": {
          "base_uri": "https://localhost:8080/"
        },
        "id": "SA6Mmy6I1ULD",
        "outputId": "41ad5a6e-4831-4b7c-c9d6-33bc828e637a"
      },
      "outputs": [
        {
          "name": "stdout",
          "output_type": "stream",
          "text": [
            "Postgraduate \n",
            "Advanced Computer Science MSc\n",
            "The broad range of skills gained through programmes in this School, coupled with multiple opportunities for extra-curricular activities and work experience, has enabled postgraduates to move into roles such as:\n",
            "\n",
            "Head of Development\n",
            "Engineering Manager\n",
            "Lecturer\n",
            "IT Consultant\n",
            "Project Manager\n",
            "IT Developer\n",
            "Mobile Developer\n",
            "Technical Assistant \n",
            "Analyst\n",
            "Software Developer\n",
            "\n",
            "At global companies including:\n",
            "\n",
            "Daffodil International University (Bangladesh)\n",
            "Suleyman Demirel University (Turkey)\n",
            "JP Morgan\n",
            "Deutsche Bank\n",
            "Interserve\n",
            "Barclays\n",
            "IMGROUP, Hitachi Consulting\n",
            "Mustard Systems\n"
          ]
        }
      ],
      "source": [
        "career = soup.find('div', attrs = {'id':'course-career'})\n",
        "def generate_career(soup, subject):\n",
        "  career1 = soup.find('div', attrs = {'class': 'column-item grid__item'})\n",
        "  return 'Postgraduate \\n' + subject + '\\n' + career1.text.strip()\n",
        "x = generate_career(career, header)\n",
        "\n",
        "print(x)"
      ]
    },
    {
      "cell_type": "markdown",
      "metadata": {
        "id": "J0W1k4Tn3Pja"
      },
      "source": [
        "#funding"
      ]
    },
    {
      "cell_type": "code",
      "execution_count": 39,
      "metadata": {
        "colab": {
          "base_uri": "https://localhost:8080/"
        },
        "id": "E7MKpChw3Qq9",
        "outputId": "85363aee-680f-42a8-ee00-6f41ff3463fb"
      },
      "outputs": [
        {
          "name": "stdout",
          "output_type": "stream",
          "text": [
            "Postgraduate \n",
            "Advanced Computer Science MSc\n",
            "Part-time studySeptember 2025 | 2 yearsHome: £6,450Overseas: £16,750EU/EEA/Swiss studentsThe course fee is charged per annum for 2 years. Note that fees may be subject to an increase on an annual basis - see details on our tuition fees page.Conditional depositHome: £2000Overseas: £2000Information about deposits\n",
            "Queen Mary alumni can get a £1000, 10% or 20% discount on their fees depending on the programme of study. Find out more about the Alumni Loyalty Award\n"
          ]
        }
      ],
      "source": [
        "funds = soup.find('div', attrs = {'id':'course-funding'})\n",
        "def generate_funding(soup,subject):\n",
        "  funding = []\n",
        "  fund_options = soup.find_all('div', attrs = {'class': 'grid__item fees__option--fixed'})\n",
        "  alumni = soup.find('div', attrs = {'class':'fees__notes prose'}).text.strip()\n",
        "  for f in fund_options:\n",
        "    funding.append('Postgraduate \\n' + subject + '\\n' + f.text.strip() + '\\n' + alumni)\n",
        "\n",
        "  funding1 = soup.find('div', attrs = {'class':'max-w-6'})\n",
        "  funding.append('Postgraduate \\n' + subject + '\\n' + funding1.text.strip())\n",
        "  return funding\n",
        "\n",
        "x = generate_funding(funds, header)\n",
        "print(x[1])\n"
      ]
    },
    {
      "cell_type": "markdown",
      "metadata": {
        "id": "SN82Go0xA7BA"
      },
      "source": [
        "# requirements"
      ]
    },
    {
      "cell_type": "code",
      "execution_count": 40,
      "metadata": {
        "colab": {
          "base_uri": "https://localhost:8080/"
        },
        "id": "CCT0hMAQA4FJ",
        "outputId": "f11279c4-e474-4319-d696-769190933436"
      },
      "outputs": [
        {
          "name": "stdout",
          "output_type": "stream",
          "text": [
            "Postgraduate \n",
            "Advanced Computer Science MSc requirements (UK)\n",
            "UK\n",
            "Degree requirements\n",
            "A 2:1 or above at undergraduate level \n",
            "in Electronic Engineering, Computer Science, Software Engineering, Information Technology, Mathematics or a related discipline.\n",
            "Other routesApplicants with a good 2:2 degree (55% or above) will be considered on an individual basis.\n",
            "Find out more about how to apply for our postgraduate taught courses.\n",
            "English language requirements\n",
            "The English language requirements for our programmes are indicated by English bands, and therefore the specific test and score acceptable is based on the band assigned to the academic department within which your chosen course of study is administered. Note that for some academic departments there are programmes with non-standard English language requirements.\n",
            "The English Language requirements for entry to postgraduate taught and research programmes in the School of Electronic Engineering and Computer Science falls within the following English band:\n",
            "Band 4: IELTS (Academic) minimum score 6.5 overall with 6.0 in each of Writing, Listening, Reading and Speaking\n",
            "We accept a range of English tests and qualifications categorised in our English bands for you to demonstrate your level of English Language proficiency. See all accepted English tests that we deem equivalent to these IELTS scores.\n",
            "Visas and immigrationFind out how to apply for a student visa.\n"
          ]
        }
      ],
      "source": [
        "requirements = soup.find('div', attrs = {'id':'course-requirements'})\n",
        "def generate_requirements(soup, subject):\n",
        "  req = []\n",
        "  #returns 2 sections: grade requirements for uk/international students, english speaking requirements\n",
        "  sections = soup.find_all('div', attrs={'class':'grid two-column'})\n",
        "  uk_req = sections[0].find('div', attrs = {'class': 'column-item grid__item p-4 bg-grey-100'})\n",
        "\n",
        "  req.append('Postgraduate \\n' + subject + ' requirements (UK)\\n' + uk_req.text.strip())\n",
        "\n",
        "  #english requirements\n",
        "  english_speaking = sections[1].find('div', attrs = {'column-item grid__item'})\n",
        "\n",
        "  return req,english_speaking.text.strip()\n",
        "\n",
        "x,eng = generate_requirements(requirements,header)\n",
        "\n",
        "print(x[0])\n",
        "print(eng)\n",
        "\n",
        "\n",
        "\n",
        "\n",
        "\n",
        "\n",
        "\n",
        "\n"
      ]
    },
    {
      "cell_type": "code",
      "execution_count": 41,
      "metadata": {
        "id": "Qy5_sUqUNBg6"
      },
      "outputs": [],
      "source": [
        "from langchain_core.documents import Document\n",
        "def scrapePG(link):\n",
        "  page = requests.get(link)\n",
        "  text = []\n",
        "  soup = BeautifulSoup(page.text, \"html.parser\")\n",
        "  #gets course name, this will be used for ids in vector database\n",
        "  header = soup.find('h1')\n",
        "  header = header.text.strip()\n",
        "  headerid = header.replace(' ','_')\n",
        "\n",
        "\n",
        "  #gets overview paragraphs\n",
        "  overview = generate_overview(soup=soup,subject = header)\n",
        "  text.append(overview)\n",
        "  print(len(text))\n",
        "\n",
        "\n",
        "  #gets contents of structure section\n",
        "  structure1 = soup.find('div', attrs={'id':'course-study'})\n",
        "  structure = generate_structure(structure1, header)\n",
        "  text += structure\n",
        "  print(len(text))\n",
        "\n",
        "  #gets teachings sections\n",
        "  teachings1 = soup.find('div', attrs={'id':'course-teaching'})\n",
        "  teachings = generate_teaching(teachings1, header)\n",
        "  text.append(teachings)\n",
        "  print(len(text))\n",
        "\n",
        "  #gets learning facilities\n",
        "  learn = soup.find('div', attrs={'id':'course-learn'})\n",
        "  learnn = generate_learning(learn,header)\n",
        "  text.append(learnn)\n",
        "  print(len(text))\n",
        "\n",
        "\n",
        "  #gets careers\n",
        "  career = soup.find('div', attrs = {'id':'course-career'})\n",
        "  careers = generate_career(career, header)\n",
        "  text.append(careers)\n",
        "  print(len(text))\n",
        "\n",
        "  #gets funding\n",
        "  funds = soup.find('div', attrs = {'id':'course-funding'})\n",
        "  funding = generate_funding(funds, header)\n",
        "  text += funding\n",
        "  print(len(text))\n",
        "\n",
        "  #gets contents of entry requirements section\n",
        "  requirements = soup.find('div', attrs = {'id':'course-requirements'})\n",
        "  entryrq, english = generate_requirements(requirements,header)\n",
        "  text += entryrq\n",
        "  print(len(text))\n",
        "\n",
        "\n",
        "\n",
        "\n",
        "  #converts text chunks into langchain documents to be used for pinecone db\n",
        "  docs = [Document(page_content = txt, metadata = {'link':link, 'name': header, 'degree':'postgraduate'}) for txt in text]\n",
        "  ids = [(headerid+ '_'+str(i)) for i in range(len(text))]\n",
        "\n",
        "  return docs,ids\n"
      ]
    },
    {
      "cell_type": "code",
      "execution_count": 42,
      "metadata": {
        "colab": {
          "base_uri": "https://localhost:8080/"
        },
        "id": "yDvj6VpWQDh9",
        "outputId": "fa614616-1a2b-46b0-ce09-65cb67fbeabe"
      },
      "outputs": [
        {
          "name": "stdout",
          "output_type": "stream",
          "text": [
            "1\n",
            "5\n",
            "6\n",
            "7\n",
            "8\n",
            "11\n",
            "12\n",
            "1\n",
            "5\n",
            "6\n",
            "7\n",
            "8\n",
            "11\n",
            "12\n",
            "1\n",
            "5\n",
            "6\n",
            "7\n",
            "8\n",
            "10\n",
            "11\n",
            "1\n",
            "5\n",
            "6\n",
            "7\n",
            "8\n",
            "11\n",
            "12\n",
            "1\n",
            "5\n",
            "6\n",
            "7\n",
            "8\n",
            "11\n",
            "12\n",
            "1\n",
            "4\n",
            "5\n",
            "6\n",
            "7\n",
            "9\n",
            "10\n",
            "1\n",
            "5\n",
            "6\n",
            "7\n",
            "8\n",
            "10\n",
            "11\n",
            "1\n",
            "5\n",
            "6\n",
            "7\n",
            "8\n",
            "11\n",
            "12\n",
            "1\n",
            "5\n",
            "6\n",
            "7\n",
            "8\n",
            "11\n",
            "12\n",
            "1\n",
            "5\n",
            "6\n",
            "7\n",
            "8\n",
            "11\n",
            "12\n",
            "1\n",
            "5\n",
            "6\n",
            "7\n",
            "8\n",
            "11\n",
            "12\n"
          ]
        }
      ],
      "source": [
        "import time\n",
        "PG_degrees = ['https://www.qmul.ac.uk/postgraduate/taught/coursefinder/courses/advanced-computer-science-msc/',\n",
        "              'https://www.qmul.ac.uk/postgraduate/taught/coursefinder/courses/artificial-intelligence-msc/',\n",
        "              'https://www.qmul.ac.uk/postgraduate/taught/coursefinder/courses/computer-games-msc/',\n",
        "              'https://www.qmul.ac.uk/postgraduate/taught/coursefinder/courses/computer-science-by-research-msc/',\n",
        "              'https://www.qmul.ac.uk/postgraduate/taught/coursefinder/courses/computer-science-conversion-msc/',\n",
        "              'https://www.qmul.ac.uk/postgraduate/taught/coursefinder/courses/data-science-msc/',\n",
        "              'https://www.qmul.ac.uk/postgraduate/taught/coursefinder/courses/data-science-and-artificial-intelligence-msc/',\n",
        "              'https://www.qmul.ac.uk/postgraduate/taught/coursefinder/courses/machine-learning-for-visual-data-analytics-msc/',\n",
        "              'https://www.qmul.ac.uk/postgraduate/taught/coursefinder/courses/sound-and-music-computing-msc/',\n",
        "              'https://www.qmul.ac.uk/postgraduate/taught/coursefinder/courses/advanced-electronic-and-electrical-engineering-msc/',\n",
        "              'https://www.qmul.ac.uk/postgraduate/taught/coursefinder/courses/electronic-engineering-by-research-msc/']\n",
        "\n",
        "#used as a carrier for ids and scraped text from a degree page\n",
        "tempdocs = []\n",
        "tempids = []\n",
        "\n",
        "#stores all the ids and text from every degree page\n",
        "alldocs = []\n",
        "allids = []\n",
        "\n",
        "for degree in PG_degrees:\n",
        "  tempdocs,tempids = scrapePG(degree)\n",
        "  alldocs += tempdocs\n",
        "  allids += tempids\n",
        "\n",
        "  #limiting the rate of requests\n",
        "  time.sleep(5)"
      ]
    },
    {
      "cell_type": "code",
      "execution_count": 1,
      "metadata": {
        "colab": {
          "base_uri": "https://localhost:8080/"
        },
        "collapsed": true,
        "id": "WSeR1AVW0Gh6",
        "outputId": "5fbec4fa-57b0-459a-c4ea-89af031dccea"
      },
      "outputs": [
        {
          "name": "stdout",
          "output_type": "stream",
          "text": [
            "Requirement already satisfied: pymupdf4llm in /Users/ehimenagbonkhese/Downloads/220540069FPY/envv/lib/python3.9/site-packages (0.0.24)\n",
            "Requirement already satisfied: pymupdf>=1.25.5 in /Users/ehimenagbonkhese/Downloads/220540069FPY/envv/lib/python3.9/site-packages (from pymupdf4llm) (1.25.5)\n",
            "\u001b[33mWARNING: You are using pip version 21.2.4; however, version 25.1.1 is available.\n",
            "You should consider upgrading via the '/Users/ehimenagbonkhese/Downloads/220540069FPY/envv/bin/python -m pip install --upgrade pip' command.\u001b[0m\n",
            "Note: you may need to restart the kernel to use updated packages.\n",
            "Requirement already satisfied: langchain in /Users/ehimenagbonkhese/Downloads/220540069FPY/envv/lib/python3.9/site-packages (0.3.25)\n",
            "Requirement already satisfied: SQLAlchemy<3,>=1.4 in /Users/ehimenagbonkhese/Downloads/220540069FPY/envv/lib/python3.9/site-packages (from langchain) (2.0.41)\n",
            "Requirement already satisfied: async-timeout<5.0.0,>=4.0.0 in /Users/ehimenagbonkhese/Downloads/220540069FPY/envv/lib/python3.9/site-packages (from langchain) (4.0.3)\n",
            "Requirement already satisfied: requests<3,>=2 in /Users/ehimenagbonkhese/Downloads/220540069FPY/envv/lib/python3.9/site-packages (from langchain) (2.32.3)\n",
            "Requirement already satisfied: langchain-core<1.0.0,>=0.3.58 in /Users/ehimenagbonkhese/Downloads/220540069FPY/envv/lib/python3.9/site-packages (from langchain) (0.3.59)\n",
            "Requirement already satisfied: langchain-text-splitters<1.0.0,>=0.3.8 in /Users/ehimenagbonkhese/Downloads/220540069FPY/envv/lib/python3.9/site-packages (from langchain) (0.3.8)\n",
            "Requirement already satisfied: langsmith<0.4,>=0.1.17 in /Users/ehimenagbonkhese/Downloads/220540069FPY/envv/lib/python3.9/site-packages (from langchain) (0.3.42)\n",
            "Requirement already satisfied: PyYAML>=5.3 in /Users/ehimenagbonkhese/Downloads/220540069FPY/envv/lib/python3.9/site-packages (from langchain) (6.0.2)\n",
            "Requirement already satisfied: pydantic<3.0.0,>=2.7.4 in /Users/ehimenagbonkhese/Downloads/220540069FPY/envv/lib/python3.9/site-packages (from langchain) (2.11.4)\n",
            "Requirement already satisfied: jsonpatch<2.0,>=1.33 in /Users/ehimenagbonkhese/Downloads/220540069FPY/envv/lib/python3.9/site-packages (from langchain-core<1.0.0,>=0.3.58->langchain) (1.33)\n",
            "Requirement already satisfied: typing-extensions>=4.7 in /Users/ehimenagbonkhese/Downloads/220540069FPY/envv/lib/python3.9/site-packages (from langchain-core<1.0.0,>=0.3.58->langchain) (4.13.2)\n",
            "Requirement already satisfied: tenacity!=8.4.0,<10.0.0,>=8.1.0 in /Users/ehimenagbonkhese/Downloads/220540069FPY/envv/lib/python3.9/site-packages (from langchain-core<1.0.0,>=0.3.58->langchain) (9.1.2)\n",
            "Requirement already satisfied: packaging<25,>=23.2 in /Users/ehimenagbonkhese/Downloads/220540069FPY/envv/lib/python3.9/site-packages (from langchain-core<1.0.0,>=0.3.58->langchain) (24.2)\n",
            "Requirement already satisfied: jsonpointer>=1.9 in /Users/ehimenagbonkhese/Downloads/220540069FPY/envv/lib/python3.9/site-packages (from jsonpatch<2.0,>=1.33->langchain-core<1.0.0,>=0.3.58->langchain) (3.0.0)\n",
            "Requirement already satisfied: httpx<1,>=0.23.0 in /Users/ehimenagbonkhese/Downloads/220540069FPY/envv/lib/python3.9/site-packages (from langsmith<0.4,>=0.1.17->langchain) (0.28.1)\n",
            "Requirement already satisfied: zstandard<0.24.0,>=0.23.0 in /Users/ehimenagbonkhese/Downloads/220540069FPY/envv/lib/python3.9/site-packages (from langsmith<0.4,>=0.1.17->langchain) (0.23.0)\n",
            "Requirement already satisfied: requests-toolbelt<2.0.0,>=1.0.0 in /Users/ehimenagbonkhese/Downloads/220540069FPY/envv/lib/python3.9/site-packages (from langsmith<0.4,>=0.1.17->langchain) (1.0.0)\n",
            "Requirement already satisfied: orjson<4.0.0,>=3.9.14 in /Users/ehimenagbonkhese/Downloads/220540069FPY/envv/lib/python3.9/site-packages (from langsmith<0.4,>=0.1.17->langchain) (3.10.18)\n",
            "Requirement already satisfied: anyio in /Users/ehimenagbonkhese/Downloads/220540069FPY/envv/lib/python3.9/site-packages (from httpx<1,>=0.23.0->langsmith<0.4,>=0.1.17->langchain) (4.9.0)\n",
            "Requirement already satisfied: idna in /Users/ehimenagbonkhese/Downloads/220540069FPY/envv/lib/python3.9/site-packages (from httpx<1,>=0.23.0->langsmith<0.4,>=0.1.17->langchain) (3.10)\n",
            "Requirement already satisfied: certifi in /Users/ehimenagbonkhese/Downloads/220540069FPY/envv/lib/python3.9/site-packages (from httpx<1,>=0.23.0->langsmith<0.4,>=0.1.17->langchain) (2025.4.26)\n",
            "Requirement already satisfied: httpcore==1.* in /Users/ehimenagbonkhese/Downloads/220540069FPY/envv/lib/python3.9/site-packages (from httpx<1,>=0.23.0->langsmith<0.4,>=0.1.17->langchain) (1.0.9)\n",
            "Requirement already satisfied: h11>=0.16 in /Users/ehimenagbonkhese/Downloads/220540069FPY/envv/lib/python3.9/site-packages (from httpcore==1.*->httpx<1,>=0.23.0->langsmith<0.4,>=0.1.17->langchain) (0.16.0)\n",
            "Requirement already satisfied: pydantic-core==2.33.2 in /Users/ehimenagbonkhese/Downloads/220540069FPY/envv/lib/python3.9/site-packages (from pydantic<3.0.0,>=2.7.4->langchain) (2.33.2)\n",
            "Requirement already satisfied: annotated-types>=0.6.0 in /Users/ehimenagbonkhese/Downloads/220540069FPY/envv/lib/python3.9/site-packages (from pydantic<3.0.0,>=2.7.4->langchain) (0.7.0)\n",
            "Requirement already satisfied: typing-inspection>=0.4.0 in /Users/ehimenagbonkhese/Downloads/220540069FPY/envv/lib/python3.9/site-packages (from pydantic<3.0.0,>=2.7.4->langchain) (0.4.0)\n",
            "Requirement already satisfied: charset-normalizer<4,>=2 in /Users/ehimenagbonkhese/Downloads/220540069FPY/envv/lib/python3.9/site-packages (from requests<3,>=2->langchain) (3.4.2)\n",
            "Requirement already satisfied: urllib3<3,>=1.21.1 in /Users/ehimenagbonkhese/Downloads/220540069FPY/envv/lib/python3.9/site-packages (from requests<3,>=2->langchain) (2.4.0)\n",
            "Requirement already satisfied: greenlet>=1 in /Users/ehimenagbonkhese/Downloads/220540069FPY/envv/lib/python3.9/site-packages (from SQLAlchemy<3,>=1.4->langchain) (3.2.2)\n",
            "Requirement already satisfied: sniffio>=1.1 in /Users/ehimenagbonkhese/Downloads/220540069FPY/envv/lib/python3.9/site-packages (from anyio->httpx<1,>=0.23.0->langsmith<0.4,>=0.1.17->langchain) (1.3.1)\n",
            "Requirement already satisfied: exceptiongroup>=1.0.2 in /Users/ehimenagbonkhese/Downloads/220540069FPY/envv/lib/python3.9/site-packages (from anyio->httpx<1,>=0.23.0->langsmith<0.4,>=0.1.17->langchain) (1.3.0)\n",
            "\u001b[33mWARNING: You are using pip version 21.2.4; however, version 25.1.1 is available.\n",
            "You should consider upgrading via the '/Users/ehimenagbonkhese/Downloads/220540069FPY/envv/bin/python -m pip install --upgrade pip' command.\u001b[0m\n",
            "Note: you may need to restart the kernel to use updated packages.\n",
            "Requirement already satisfied: langchain_community in /Users/ehimenagbonkhese/Downloads/220540069FPY/envv/lib/python3.9/site-packages (0.3.24)\n",
            "Requirement already satisfied: langchain-core<1.0.0,>=0.3.59 in /Users/ehimenagbonkhese/Downloads/220540069FPY/envv/lib/python3.9/site-packages (from langchain_community) (0.3.59)\n",
            "Requirement already satisfied: SQLAlchemy<3,>=1.4 in /Users/ehimenagbonkhese/Downloads/220540069FPY/envv/lib/python3.9/site-packages (from langchain_community) (2.0.41)\n",
            "Requirement already satisfied: httpx-sse<1.0.0,>=0.4.0 in /Users/ehimenagbonkhese/Downloads/220540069FPY/envv/lib/python3.9/site-packages (from langchain_community) (0.4.0)\n",
            "Requirement already satisfied: langsmith<0.4,>=0.1.125 in /Users/ehimenagbonkhese/Downloads/220540069FPY/envv/lib/python3.9/site-packages (from langchain_community) (0.3.42)\n",
            "Requirement already satisfied: numpy>=1.26.2 in /Users/ehimenagbonkhese/Downloads/220540069FPY/envv/lib/python3.9/site-packages (from langchain_community) (1.26.4)\n",
            "Requirement already satisfied: PyYAML>=5.3 in /Users/ehimenagbonkhese/Downloads/220540069FPY/envv/lib/python3.9/site-packages (from langchain_community) (6.0.2)\n",
            "Requirement already satisfied: langchain<1.0.0,>=0.3.25 in /Users/ehimenagbonkhese/Downloads/220540069FPY/envv/lib/python3.9/site-packages (from langchain_community) (0.3.25)\n",
            "Requirement already satisfied: pydantic-settings<3.0.0,>=2.4.0 in /Users/ehimenagbonkhese/Downloads/220540069FPY/envv/lib/python3.9/site-packages (from langchain_community) (2.9.1)\n",
            "Requirement already satisfied: tenacity!=8.4.0,<10,>=8.1.0 in /Users/ehimenagbonkhese/Downloads/220540069FPY/envv/lib/python3.9/site-packages (from langchain_community) (9.1.2)\n",
            "Requirement already satisfied: aiohttp<4.0.0,>=3.8.3 in /Users/ehimenagbonkhese/Downloads/220540069FPY/envv/lib/python3.9/site-packages (from langchain_community) (3.10.11)\n",
            "Requirement already satisfied: dataclasses-json<0.7,>=0.5.7 in /Users/ehimenagbonkhese/Downloads/220540069FPY/envv/lib/python3.9/site-packages (from langchain_community) (0.6.7)\n",
            "Requirement already satisfied: requests<3,>=2 in /Users/ehimenagbonkhese/Downloads/220540069FPY/envv/lib/python3.9/site-packages (from langchain_community) (2.32.3)\n",
            "Requirement already satisfied: attrs>=17.3.0 in /Users/ehimenagbonkhese/Downloads/220540069FPY/envv/lib/python3.9/site-packages (from aiohttp<4.0.0,>=3.8.3->langchain_community) (25.3.0)\n",
            "Requirement already satisfied: aiosignal>=1.1.2 in /Users/ehimenagbonkhese/Downloads/220540069FPY/envv/lib/python3.9/site-packages (from aiohttp<4.0.0,>=3.8.3->langchain_community) (1.3.2)\n",
            "Requirement already satisfied: multidict<7.0,>=4.5 in /Users/ehimenagbonkhese/Downloads/220540069FPY/envv/lib/python3.9/site-packages (from aiohttp<4.0.0,>=3.8.3->langchain_community) (6.4.3)\n",
            "Requirement already satisfied: aiohappyeyeballs>=2.3.0 in /Users/ehimenagbonkhese/Downloads/220540069FPY/envv/lib/python3.9/site-packages (from aiohttp<4.0.0,>=3.8.3->langchain_community) (2.6.1)\n",
            "Requirement already satisfied: frozenlist>=1.1.1 in /Users/ehimenagbonkhese/Downloads/220540069FPY/envv/lib/python3.9/site-packages (from aiohttp<4.0.0,>=3.8.3->langchain_community) (1.6.0)\n",
            "Requirement already satisfied: async-timeout<6.0,>=4.0 in /Users/ehimenagbonkhese/Downloads/220540069FPY/envv/lib/python3.9/site-packages (from aiohttp<4.0.0,>=3.8.3->langchain_community) (4.0.3)\n",
            "Requirement already satisfied: yarl<2.0,>=1.12.0 in /Users/ehimenagbonkhese/Downloads/220540069FPY/envv/lib/python3.9/site-packages (from aiohttp<4.0.0,>=3.8.3->langchain_community) (1.20.0)\n",
            "Requirement already satisfied: marshmallow<4.0.0,>=3.18.0 in /Users/ehimenagbonkhese/Downloads/220540069FPY/envv/lib/python3.9/site-packages (from dataclasses-json<0.7,>=0.5.7->langchain_community) (3.26.1)\n",
            "Requirement already satisfied: typing-inspect<1,>=0.4.0 in /Users/ehimenagbonkhese/Downloads/220540069FPY/envv/lib/python3.9/site-packages (from dataclasses-json<0.7,>=0.5.7->langchain_community) (0.9.0)\n",
            "Requirement already satisfied: langchain-text-splitters<1.0.0,>=0.3.8 in /Users/ehimenagbonkhese/Downloads/220540069FPY/envv/lib/python3.9/site-packages (from langchain<1.0.0,>=0.3.25->langchain_community) (0.3.8)\n",
            "Requirement already satisfied: pydantic<3.0.0,>=2.7.4 in /Users/ehimenagbonkhese/Downloads/220540069FPY/envv/lib/python3.9/site-packages (from langchain<1.0.0,>=0.3.25->langchain_community) (2.11.4)\n",
            "Requirement already satisfied: packaging<25,>=23.2 in /Users/ehimenagbonkhese/Downloads/220540069FPY/envv/lib/python3.9/site-packages (from langchain-core<1.0.0,>=0.3.59->langchain_community) (24.2)\n",
            "Requirement already satisfied: jsonpatch<2.0,>=1.33 in /Users/ehimenagbonkhese/Downloads/220540069FPY/envv/lib/python3.9/site-packages (from langchain-core<1.0.0,>=0.3.59->langchain_community) (1.33)\n",
            "Requirement already satisfied: typing-extensions>=4.7 in /Users/ehimenagbonkhese/Downloads/220540069FPY/envv/lib/python3.9/site-packages (from langchain-core<1.0.0,>=0.3.59->langchain_community) (4.13.2)\n",
            "Requirement already satisfied: jsonpointer>=1.9 in /Users/ehimenagbonkhese/Downloads/220540069FPY/envv/lib/python3.9/site-packages (from jsonpatch<2.0,>=1.33->langchain-core<1.0.0,>=0.3.59->langchain_community) (3.0.0)\n",
            "Requirement already satisfied: requests-toolbelt<2.0.0,>=1.0.0 in /Users/ehimenagbonkhese/Downloads/220540069FPY/envv/lib/python3.9/site-packages (from langsmith<0.4,>=0.1.125->langchain_community) (1.0.0)\n",
            "Requirement already satisfied: zstandard<0.24.0,>=0.23.0 in /Users/ehimenagbonkhese/Downloads/220540069FPY/envv/lib/python3.9/site-packages (from langsmith<0.4,>=0.1.125->langchain_community) (0.23.0)\n",
            "Requirement already satisfied: orjson<4.0.0,>=3.9.14 in /Users/ehimenagbonkhese/Downloads/220540069FPY/envv/lib/python3.9/site-packages (from langsmith<0.4,>=0.1.125->langchain_community) (3.10.18)\n",
            "Requirement already satisfied: httpx<1,>=0.23.0 in /Users/ehimenagbonkhese/Downloads/220540069FPY/envv/lib/python3.9/site-packages (from langsmith<0.4,>=0.1.125->langchain_community) (0.28.1)\n",
            "Requirement already satisfied: httpcore==1.* in /Users/ehimenagbonkhese/Downloads/220540069FPY/envv/lib/python3.9/site-packages (from httpx<1,>=0.23.0->langsmith<0.4,>=0.1.125->langchain_community) (1.0.9)\n",
            "Requirement already satisfied: certifi in /Users/ehimenagbonkhese/Downloads/220540069FPY/envv/lib/python3.9/site-packages (from httpx<1,>=0.23.0->langsmith<0.4,>=0.1.125->langchain_community) (2025.4.26)\n",
            "Requirement already satisfied: idna in /Users/ehimenagbonkhese/Downloads/220540069FPY/envv/lib/python3.9/site-packages (from httpx<1,>=0.23.0->langsmith<0.4,>=0.1.125->langchain_community) (3.10)\n",
            "Requirement already satisfied: anyio in /Users/ehimenagbonkhese/Downloads/220540069FPY/envv/lib/python3.9/site-packages (from httpx<1,>=0.23.0->langsmith<0.4,>=0.1.125->langchain_community) (4.9.0)\n",
            "Requirement already satisfied: h11>=0.16 in /Users/ehimenagbonkhese/Downloads/220540069FPY/envv/lib/python3.9/site-packages (from httpcore==1.*->httpx<1,>=0.23.0->langsmith<0.4,>=0.1.125->langchain_community) (0.16.0)\n",
            "Requirement already satisfied: annotated-types>=0.6.0 in /Users/ehimenagbonkhese/Downloads/220540069FPY/envv/lib/python3.9/site-packages (from pydantic<3.0.0,>=2.7.4->langchain<1.0.0,>=0.3.25->langchain_community) (0.7.0)\n",
            "Requirement already satisfied: pydantic-core==2.33.2 in /Users/ehimenagbonkhese/Downloads/220540069FPY/envv/lib/python3.9/site-packages (from pydantic<3.0.0,>=2.7.4->langchain<1.0.0,>=0.3.25->langchain_community) (2.33.2)\n",
            "Requirement already satisfied: typing-inspection>=0.4.0 in /Users/ehimenagbonkhese/Downloads/220540069FPY/envv/lib/python3.9/site-packages (from pydantic<3.0.0,>=2.7.4->langchain<1.0.0,>=0.3.25->langchain_community) (0.4.0)\n",
            "Requirement already satisfied: python-dotenv>=0.21.0 in /Users/ehimenagbonkhese/Downloads/220540069FPY/envv/lib/python3.9/site-packages (from pydantic-settings<3.0.0,>=2.4.0->langchain_community) (1.1.0)\n",
            "Requirement already satisfied: urllib3<3,>=1.21.1 in /Users/ehimenagbonkhese/Downloads/220540069FPY/envv/lib/python3.9/site-packages (from requests<3,>=2->langchain_community) (2.4.0)\n",
            "Requirement already satisfied: charset-normalizer<4,>=2 in /Users/ehimenagbonkhese/Downloads/220540069FPY/envv/lib/python3.9/site-packages (from requests<3,>=2->langchain_community) (3.4.2)\n",
            "Requirement already satisfied: greenlet>=1 in /Users/ehimenagbonkhese/Downloads/220540069FPY/envv/lib/python3.9/site-packages (from SQLAlchemy<3,>=1.4->langchain_community) (3.2.2)\n",
            "Requirement already satisfied: mypy-extensions>=0.3.0 in /Users/ehimenagbonkhese/Downloads/220540069FPY/envv/lib/python3.9/site-packages (from typing-inspect<1,>=0.4.0->dataclasses-json<0.7,>=0.5.7->langchain_community) (1.1.0)\n",
            "Requirement already satisfied: propcache>=0.2.1 in /Users/ehimenagbonkhese/Downloads/220540069FPY/envv/lib/python3.9/site-packages (from yarl<2.0,>=1.12.0->aiohttp<4.0.0,>=3.8.3->langchain_community) (0.3.1)\n",
            "Requirement already satisfied: sniffio>=1.1 in /Users/ehimenagbonkhese/Downloads/220540069FPY/envv/lib/python3.9/site-packages (from anyio->httpx<1,>=0.23.0->langsmith<0.4,>=0.1.125->langchain_community) (1.3.1)\n",
            "Requirement already satisfied: exceptiongroup>=1.0.2 in /Users/ehimenagbonkhese/Downloads/220540069FPY/envv/lib/python3.9/site-packages (from anyio->httpx<1,>=0.23.0->langsmith<0.4,>=0.1.125->langchain_community) (1.3.0)\n",
            "\u001b[33mWARNING: You are using pip version 21.2.4; however, version 25.1.1 is available.\n",
            "You should consider upgrading via the '/Users/ehimenagbonkhese/Downloads/220540069FPY/envv/bin/python -m pip install --upgrade pip' command.\u001b[0m\n",
            "Note: you may need to restart the kernel to use updated packages.\n",
            "Requirement already satisfied: langchain_openai in /Users/ehimenagbonkhese/Downloads/220540069FPY/envv/lib/python3.9/site-packages (0.3.16)\n",
            "Requirement already satisfied: tiktoken<1,>=0.7 in /Users/ehimenagbonkhese/Downloads/220540069FPY/envv/lib/python3.9/site-packages (from langchain_openai) (0.9.0)\n",
            "Requirement already satisfied: openai<2.0.0,>=1.68.2 in /Users/ehimenagbonkhese/Downloads/220540069FPY/envv/lib/python3.9/site-packages (from langchain_openai) (1.78.1)\n",
            "Requirement already satisfied: langchain-core<1.0.0,>=0.3.58 in /Users/ehimenagbonkhese/Downloads/220540069FPY/envv/lib/python3.9/site-packages (from langchain_openai) (0.3.59)\n",
            "Requirement already satisfied: PyYAML>=5.3 in /Users/ehimenagbonkhese/Downloads/220540069FPY/envv/lib/python3.9/site-packages (from langchain-core<1.0.0,>=0.3.58->langchain_openai) (6.0.2)\n",
            "Requirement already satisfied: tenacity!=8.4.0,<10.0.0,>=8.1.0 in /Users/ehimenagbonkhese/Downloads/220540069FPY/envv/lib/python3.9/site-packages (from langchain-core<1.0.0,>=0.3.58->langchain_openai) (9.1.2)\n",
            "Requirement already satisfied: packaging<25,>=23.2 in /Users/ehimenagbonkhese/Downloads/220540069FPY/envv/lib/python3.9/site-packages (from langchain-core<1.0.0,>=0.3.58->langchain_openai) (24.2)\n",
            "Requirement already satisfied: jsonpatch<2.0,>=1.33 in /Users/ehimenagbonkhese/Downloads/220540069FPY/envv/lib/python3.9/site-packages (from langchain-core<1.0.0,>=0.3.58->langchain_openai) (1.33)\n",
            "Requirement already satisfied: langsmith<0.4,>=0.1.125 in /Users/ehimenagbonkhese/Downloads/220540069FPY/envv/lib/python3.9/site-packages (from langchain-core<1.0.0,>=0.3.58->langchain_openai) (0.3.42)\n",
            "Requirement already satisfied: pydantic<3.0.0,>=2.5.2 in /Users/ehimenagbonkhese/Downloads/220540069FPY/envv/lib/python3.9/site-packages (from langchain-core<1.0.0,>=0.3.58->langchain_openai) (2.11.4)\n",
            "Requirement already satisfied: typing-extensions>=4.7 in /Users/ehimenagbonkhese/Downloads/220540069FPY/envv/lib/python3.9/site-packages (from langchain-core<1.0.0,>=0.3.58->langchain_openai) (4.13.2)\n",
            "Requirement already satisfied: jsonpointer>=1.9 in /Users/ehimenagbonkhese/Downloads/220540069FPY/envv/lib/python3.9/site-packages (from jsonpatch<2.0,>=1.33->langchain-core<1.0.0,>=0.3.58->langchain_openai) (3.0.0)\n",
            "Requirement already satisfied: requests<3,>=2 in /Users/ehimenagbonkhese/Downloads/220540069FPY/envv/lib/python3.9/site-packages (from langsmith<0.4,>=0.1.125->langchain-core<1.0.0,>=0.3.58->langchain_openai) (2.32.3)\n",
            "Requirement already satisfied: requests-toolbelt<2.0.0,>=1.0.0 in /Users/ehimenagbonkhese/Downloads/220540069FPY/envv/lib/python3.9/site-packages (from langsmith<0.4,>=0.1.125->langchain-core<1.0.0,>=0.3.58->langchain_openai) (1.0.0)\n",
            "Requirement already satisfied: httpx<1,>=0.23.0 in /Users/ehimenagbonkhese/Downloads/220540069FPY/envv/lib/python3.9/site-packages (from langsmith<0.4,>=0.1.125->langchain-core<1.0.0,>=0.3.58->langchain_openai) (0.28.1)\n",
            "Requirement already satisfied: orjson<4.0.0,>=3.9.14 in /Users/ehimenagbonkhese/Downloads/220540069FPY/envv/lib/python3.9/site-packages (from langsmith<0.4,>=0.1.125->langchain-core<1.0.0,>=0.3.58->langchain_openai) (3.10.18)\n",
            "Requirement already satisfied: zstandard<0.24.0,>=0.23.0 in /Users/ehimenagbonkhese/Downloads/220540069FPY/envv/lib/python3.9/site-packages (from langsmith<0.4,>=0.1.125->langchain-core<1.0.0,>=0.3.58->langchain_openai) (0.23.0)\n",
            "Requirement already satisfied: httpcore==1.* in /Users/ehimenagbonkhese/Downloads/220540069FPY/envv/lib/python3.9/site-packages (from httpx<1,>=0.23.0->langsmith<0.4,>=0.1.125->langchain-core<1.0.0,>=0.3.58->langchain_openai) (1.0.9)\n",
            "Requirement already satisfied: certifi in /Users/ehimenagbonkhese/Downloads/220540069FPY/envv/lib/python3.9/site-packages (from httpx<1,>=0.23.0->langsmith<0.4,>=0.1.125->langchain-core<1.0.0,>=0.3.58->langchain_openai) (2025.4.26)\n",
            "Requirement already satisfied: idna in /Users/ehimenagbonkhese/Downloads/220540069FPY/envv/lib/python3.9/site-packages (from httpx<1,>=0.23.0->langsmith<0.4,>=0.1.125->langchain-core<1.0.0,>=0.3.58->langchain_openai) (3.10)\n",
            "Requirement already satisfied: anyio in /Users/ehimenagbonkhese/Downloads/220540069FPY/envv/lib/python3.9/site-packages (from httpx<1,>=0.23.0->langsmith<0.4,>=0.1.125->langchain-core<1.0.0,>=0.3.58->langchain_openai) (4.9.0)\n",
            "Requirement already satisfied: h11>=0.16 in /Users/ehimenagbonkhese/Downloads/220540069FPY/envv/lib/python3.9/site-packages (from httpcore==1.*->httpx<1,>=0.23.0->langsmith<0.4,>=0.1.125->langchain-core<1.0.0,>=0.3.58->langchain_openai) (0.16.0)\n",
            "Requirement already satisfied: tqdm>4 in /Users/ehimenagbonkhese/Downloads/220540069FPY/envv/lib/python3.9/site-packages (from openai<2.0.0,>=1.68.2->langchain_openai) (4.67.1)\n",
            "Requirement already satisfied: sniffio in /Users/ehimenagbonkhese/Downloads/220540069FPY/envv/lib/python3.9/site-packages (from openai<2.0.0,>=1.68.2->langchain_openai) (1.3.1)\n",
            "Requirement already satisfied: jiter<1,>=0.4.0 in /Users/ehimenagbonkhese/Downloads/220540069FPY/envv/lib/python3.9/site-packages (from openai<2.0.0,>=1.68.2->langchain_openai) (0.9.0)\n",
            "Requirement already satisfied: distro<2,>=1.7.0 in /Users/ehimenagbonkhese/Downloads/220540069FPY/envv/lib/python3.9/site-packages (from openai<2.0.0,>=1.68.2->langchain_openai) (1.9.0)\n",
            "Requirement already satisfied: exceptiongroup>=1.0.2 in /Users/ehimenagbonkhese/Downloads/220540069FPY/envv/lib/python3.9/site-packages (from anyio->httpx<1,>=0.23.0->langsmith<0.4,>=0.1.125->langchain-core<1.0.0,>=0.3.58->langchain_openai) (1.3.0)\n",
            "Requirement already satisfied: pydantic-core==2.33.2 in /Users/ehimenagbonkhese/Downloads/220540069FPY/envv/lib/python3.9/site-packages (from pydantic<3.0.0,>=2.5.2->langchain-core<1.0.0,>=0.3.58->langchain_openai) (2.33.2)\n",
            "Requirement already satisfied: typing-inspection>=0.4.0 in /Users/ehimenagbonkhese/Downloads/220540069FPY/envv/lib/python3.9/site-packages (from pydantic<3.0.0,>=2.5.2->langchain-core<1.0.0,>=0.3.58->langchain_openai) (0.4.0)\n",
            "Requirement already satisfied: annotated-types>=0.6.0 in /Users/ehimenagbonkhese/Downloads/220540069FPY/envv/lib/python3.9/site-packages (from pydantic<3.0.0,>=2.5.2->langchain-core<1.0.0,>=0.3.58->langchain_openai) (0.7.0)\n",
            "Requirement already satisfied: urllib3<3,>=1.21.1 in /Users/ehimenagbonkhese/Downloads/220540069FPY/envv/lib/python3.9/site-packages (from requests<3,>=2->langsmith<0.4,>=0.1.125->langchain-core<1.0.0,>=0.3.58->langchain_openai) (2.4.0)\n",
            "Requirement already satisfied: charset-normalizer<4,>=2 in /Users/ehimenagbonkhese/Downloads/220540069FPY/envv/lib/python3.9/site-packages (from requests<3,>=2->langsmith<0.4,>=0.1.125->langchain-core<1.0.0,>=0.3.58->langchain_openai) (3.4.2)\n",
            "Requirement already satisfied: regex>=2022.1.18 in /Users/ehimenagbonkhese/Downloads/220540069FPY/envv/lib/python3.9/site-packages (from tiktoken<1,>=0.7->langchain_openai) (2024.11.6)\n",
            "\u001b[33mWARNING: You are using pip version 21.2.4; however, version 25.1.1 is available.\n",
            "You should consider upgrading via the '/Users/ehimenagbonkhese/Downloads/220540069FPY/envv/bin/python -m pip install --upgrade pip' command.\u001b[0m\n",
            "Note: you may need to restart the kernel to use updated packages.\n",
            "Requirement already satisfied: langchain_core in /Users/ehimenagbonkhese/Downloads/220540069FPY/envv/lib/python3.9/site-packages (0.3.59)\n",
            "Requirement already satisfied: PyYAML>=5.3 in /Users/ehimenagbonkhese/Downloads/220540069FPY/envv/lib/python3.9/site-packages (from langchain_core) (6.0.2)\n",
            "Requirement already satisfied: jsonpatch<2.0,>=1.33 in /Users/ehimenagbonkhese/Downloads/220540069FPY/envv/lib/python3.9/site-packages (from langchain_core) (1.33)\n",
            "Requirement already satisfied: pydantic<3.0.0,>=2.5.2 in /Users/ehimenagbonkhese/Downloads/220540069FPY/envv/lib/python3.9/site-packages (from langchain_core) (2.11.4)\n",
            "Requirement already satisfied: langsmith<0.4,>=0.1.125 in /Users/ehimenagbonkhese/Downloads/220540069FPY/envv/lib/python3.9/site-packages (from langchain_core) (0.3.42)\n",
            "Requirement already satisfied: typing-extensions>=4.7 in /Users/ehimenagbonkhese/Downloads/220540069FPY/envv/lib/python3.9/site-packages (from langchain_core) (4.13.2)\n",
            "Requirement already satisfied: packaging<25,>=23.2 in /Users/ehimenagbonkhese/Downloads/220540069FPY/envv/lib/python3.9/site-packages (from langchain_core) (24.2)\n",
            "Requirement already satisfied: tenacity!=8.4.0,<10.0.0,>=8.1.0 in /Users/ehimenagbonkhese/Downloads/220540069FPY/envv/lib/python3.9/site-packages (from langchain_core) (9.1.2)\n",
            "Requirement already satisfied: jsonpointer>=1.9 in /Users/ehimenagbonkhese/Downloads/220540069FPY/envv/lib/python3.9/site-packages (from jsonpatch<2.0,>=1.33->langchain_core) (3.0.0)\n",
            "Requirement already satisfied: httpx<1,>=0.23.0 in /Users/ehimenagbonkhese/Downloads/220540069FPY/envv/lib/python3.9/site-packages (from langsmith<0.4,>=0.1.125->langchain_core) (0.28.1)\n",
            "Requirement already satisfied: requests<3,>=2 in /Users/ehimenagbonkhese/Downloads/220540069FPY/envv/lib/python3.9/site-packages (from langsmith<0.4,>=0.1.125->langchain_core) (2.32.3)\n",
            "Requirement already satisfied: zstandard<0.24.0,>=0.23.0 in /Users/ehimenagbonkhese/Downloads/220540069FPY/envv/lib/python3.9/site-packages (from langsmith<0.4,>=0.1.125->langchain_core) (0.23.0)\n",
            "Requirement already satisfied: requests-toolbelt<2.0.0,>=1.0.0 in /Users/ehimenagbonkhese/Downloads/220540069FPY/envv/lib/python3.9/site-packages (from langsmith<0.4,>=0.1.125->langchain_core) (1.0.0)\n",
            "Requirement already satisfied: orjson<4.0.0,>=3.9.14 in /Users/ehimenagbonkhese/Downloads/220540069FPY/envv/lib/python3.9/site-packages (from langsmith<0.4,>=0.1.125->langchain_core) (3.10.18)\n",
            "Requirement already satisfied: idna in /Users/ehimenagbonkhese/Downloads/220540069FPY/envv/lib/python3.9/site-packages (from httpx<1,>=0.23.0->langsmith<0.4,>=0.1.125->langchain_core) (3.10)\n",
            "Requirement already satisfied: httpcore==1.* in /Users/ehimenagbonkhese/Downloads/220540069FPY/envv/lib/python3.9/site-packages (from httpx<1,>=0.23.0->langsmith<0.4,>=0.1.125->langchain_core) (1.0.9)\n",
            "Requirement already satisfied: anyio in /Users/ehimenagbonkhese/Downloads/220540069FPY/envv/lib/python3.9/site-packages (from httpx<1,>=0.23.0->langsmith<0.4,>=0.1.125->langchain_core) (4.9.0)\n",
            "Requirement already satisfied: certifi in /Users/ehimenagbonkhese/Downloads/220540069FPY/envv/lib/python3.9/site-packages (from httpx<1,>=0.23.0->langsmith<0.4,>=0.1.125->langchain_core) (2025.4.26)\n",
            "Requirement already satisfied: h11>=0.16 in /Users/ehimenagbonkhese/Downloads/220540069FPY/envv/lib/python3.9/site-packages (from httpcore==1.*->httpx<1,>=0.23.0->langsmith<0.4,>=0.1.125->langchain_core) (0.16.0)\n",
            "Requirement already satisfied: typing-inspection>=0.4.0 in /Users/ehimenagbonkhese/Downloads/220540069FPY/envv/lib/python3.9/site-packages (from pydantic<3.0.0,>=2.5.2->langchain_core) (0.4.0)\n",
            "Requirement already satisfied: pydantic-core==2.33.2 in /Users/ehimenagbonkhese/Downloads/220540069FPY/envv/lib/python3.9/site-packages (from pydantic<3.0.0,>=2.5.2->langchain_core) (2.33.2)\n",
            "Requirement already satisfied: annotated-types>=0.6.0 in /Users/ehimenagbonkhese/Downloads/220540069FPY/envv/lib/python3.9/site-packages (from pydantic<3.0.0,>=2.5.2->langchain_core) (0.7.0)\n",
            "Requirement already satisfied: urllib3<3,>=1.21.1 in /Users/ehimenagbonkhese/Downloads/220540069FPY/envv/lib/python3.9/site-packages (from requests<3,>=2->langsmith<0.4,>=0.1.125->langchain_core) (2.4.0)\n",
            "Requirement already satisfied: charset-normalizer<4,>=2 in /Users/ehimenagbonkhese/Downloads/220540069FPY/envv/lib/python3.9/site-packages (from requests<3,>=2->langsmith<0.4,>=0.1.125->langchain_core) (3.4.2)\n",
            "Requirement already satisfied: sniffio>=1.1 in /Users/ehimenagbonkhese/Downloads/220540069FPY/envv/lib/python3.9/site-packages (from anyio->httpx<1,>=0.23.0->langsmith<0.4,>=0.1.125->langchain_core) (1.3.1)\n",
            "Requirement already satisfied: exceptiongroup>=1.0.2 in /Users/ehimenagbonkhese/Downloads/220540069FPY/envv/lib/python3.9/site-packages (from anyio->httpx<1,>=0.23.0->langsmith<0.4,>=0.1.125->langchain_core) (1.3.0)\n",
            "\u001b[33mWARNING: You are using pip version 21.2.4; however, version 25.1.1 is available.\n",
            "You should consider upgrading via the '/Users/ehimenagbonkhese/Downloads/220540069FPY/envv/bin/python -m pip install --upgrade pip' command.\u001b[0m\n",
            "Note: you may need to restart the kernel to use updated packages.\n",
            "Requirement already satisfied: sentence_transformers in /Users/ehimenagbonkhese/Downloads/220540069FPY/envv/lib/python3.9/site-packages (4.1.0)\n",
            "Requirement already satisfied: torch>=1.11.0 in /Users/ehimenagbonkhese/Downloads/220540069FPY/envv/lib/python3.9/site-packages (from sentence_transformers) (2.2.2)\n",
            "Requirement already satisfied: scipy in /Users/ehimenagbonkhese/Downloads/220540069FPY/envv/lib/python3.9/site-packages (from sentence_transformers) (1.13.1)\n",
            "Requirement already satisfied: scikit-learn in /Users/ehimenagbonkhese/Downloads/220540069FPY/envv/lib/python3.9/site-packages (from sentence_transformers) (1.6.1)\n",
            "Requirement already satisfied: huggingface-hub>=0.20.0 in /Users/ehimenagbonkhese/Downloads/220540069FPY/envv/lib/python3.9/site-packages (from sentence_transformers) (0.31.2)\n",
            "Requirement already satisfied: Pillow in /Users/ehimenagbonkhese/Downloads/220540069FPY/envv/lib/python3.9/site-packages (from sentence_transformers) (11.2.1)\n",
            "Requirement already satisfied: transformers<5.0.0,>=4.41.0 in /Users/ehimenagbonkhese/Downloads/220540069FPY/envv/lib/python3.9/site-packages (from sentence_transformers) (4.51.3)\n",
            "Requirement already satisfied: typing_extensions>=4.5.0 in /Users/ehimenagbonkhese/Downloads/220540069FPY/envv/lib/python3.9/site-packages (from sentence_transformers) (4.13.2)\n",
            "Requirement already satisfied: tqdm in /Users/ehimenagbonkhese/Downloads/220540069FPY/envv/lib/python3.9/site-packages (from sentence_transformers) (4.67.1)\n",
            "Requirement already satisfied: pyyaml>=5.1 in /Users/ehimenagbonkhese/Downloads/220540069FPY/envv/lib/python3.9/site-packages (from huggingface-hub>=0.20.0->sentence_transformers) (6.0.2)\n",
            "Requirement already satisfied: fsspec>=2023.5.0 in /Users/ehimenagbonkhese/Downloads/220540069FPY/envv/lib/python3.9/site-packages (from huggingface-hub>=0.20.0->sentence_transformers) (2025.3.2)\n",
            "Requirement already satisfied: requests in /Users/ehimenagbonkhese/Downloads/220540069FPY/envv/lib/python3.9/site-packages (from huggingface-hub>=0.20.0->sentence_transformers) (2.32.3)\n",
            "Requirement already satisfied: filelock in /Users/ehimenagbonkhese/Downloads/220540069FPY/envv/lib/python3.9/site-packages (from huggingface-hub>=0.20.0->sentence_transformers) (3.18.0)\n",
            "Requirement already satisfied: packaging>=20.9 in /Users/ehimenagbonkhese/Downloads/220540069FPY/envv/lib/python3.9/site-packages (from huggingface-hub>=0.20.0->sentence_transformers) (24.2)\n",
            "Requirement already satisfied: networkx in /Users/ehimenagbonkhese/Downloads/220540069FPY/envv/lib/python3.9/site-packages (from torch>=1.11.0->sentence_transformers) (3.2.1)\n",
            "Requirement already satisfied: jinja2 in /Users/ehimenagbonkhese/Downloads/220540069FPY/envv/lib/python3.9/site-packages (from torch>=1.11.0->sentence_transformers) (3.1.6)\n",
            "Requirement already satisfied: sympy in /Users/ehimenagbonkhese/Downloads/220540069FPY/envv/lib/python3.9/site-packages (from torch>=1.11.0->sentence_transformers) (1.14.0)\n",
            "Requirement already satisfied: tokenizers<0.22,>=0.21 in /Users/ehimenagbonkhese/Downloads/220540069FPY/envv/lib/python3.9/site-packages (from transformers<5.0.0,>=4.41.0->sentence_transformers) (0.21.1)\n",
            "Requirement already satisfied: safetensors>=0.4.3 in /Users/ehimenagbonkhese/Downloads/220540069FPY/envv/lib/python3.9/site-packages (from transformers<5.0.0,>=4.41.0->sentence_transformers) (0.5.3)\n",
            "Requirement already satisfied: numpy>=1.17 in /Users/ehimenagbonkhese/Downloads/220540069FPY/envv/lib/python3.9/site-packages (from transformers<5.0.0,>=4.41.0->sentence_transformers) (1.26.4)\n",
            "Requirement already satisfied: regex!=2019.12.17 in /Users/ehimenagbonkhese/Downloads/220540069FPY/envv/lib/python3.9/site-packages (from transformers<5.0.0,>=4.41.0->sentence_transformers) (2024.11.6)\n",
            "Requirement already satisfied: MarkupSafe>=2.0 in /Users/ehimenagbonkhese/Downloads/220540069FPY/envv/lib/python3.9/site-packages (from jinja2->torch>=1.11.0->sentence_transformers) (3.0.2)\n",
            "Requirement already satisfied: urllib3<3,>=1.21.1 in /Users/ehimenagbonkhese/Downloads/220540069FPY/envv/lib/python3.9/site-packages (from requests->huggingface-hub>=0.20.0->sentence_transformers) (2.4.0)\n",
            "Requirement already satisfied: certifi>=2017.4.17 in /Users/ehimenagbonkhese/Downloads/220540069FPY/envv/lib/python3.9/site-packages (from requests->huggingface-hub>=0.20.0->sentence_transformers) (2025.4.26)\n",
            "Requirement already satisfied: idna<4,>=2.5 in /Users/ehimenagbonkhese/Downloads/220540069FPY/envv/lib/python3.9/site-packages (from requests->huggingface-hub>=0.20.0->sentence_transformers) (3.10)\n",
            "Requirement already satisfied: charset-normalizer<4,>=2 in /Users/ehimenagbonkhese/Downloads/220540069FPY/envv/lib/python3.9/site-packages (from requests->huggingface-hub>=0.20.0->sentence_transformers) (3.4.2)\n",
            "Requirement already satisfied: threadpoolctl>=3.1.0 in /Users/ehimenagbonkhese/Downloads/220540069FPY/envv/lib/python3.9/site-packages (from scikit-learn->sentence_transformers) (3.6.0)\n",
            "Requirement already satisfied: joblib>=1.2.0 in /Users/ehimenagbonkhese/Downloads/220540069FPY/envv/lib/python3.9/site-packages (from scikit-learn->sentence_transformers) (1.5.0)\n",
            "Requirement already satisfied: mpmath<1.4,>=1.1.0 in /Users/ehimenagbonkhese/Downloads/220540069FPY/envv/lib/python3.9/site-packages (from sympy->torch>=1.11.0->sentence_transformers) (1.3.0)\n",
            "\u001b[33mWARNING: You are using pip version 21.2.4; however, version 25.1.1 is available.\n",
            "You should consider upgrading via the '/Users/ehimenagbonkhese/Downloads/220540069FPY/envv/bin/python3 -m pip install --upgrade pip' command.\u001b[0m\n",
            "\u001b[33mWARNING: You are using pip version 21.2.4; however, version 25.1.1 is available.\n",
            "You should consider upgrading via the '/Users/ehimenagbonkhese/Downloads/220540069FPY/envv/bin/python3 -m pip install --upgrade pip' command.\u001b[0m\n",
            "Requirement already satisfied: langchain_pinecone in /Users/ehimenagbonkhese/Downloads/220540069FPY/envv/lib/python3.9/site-packages (0.2.6)\n",
            "Requirement already satisfied: numpy>=1.26.4 in /Users/ehimenagbonkhese/Downloads/220540069FPY/envv/lib/python3.9/site-packages (from langchain_pinecone) (1.26.4)\n",
            "Requirement already satisfied: langchain-tests<1.0.0,>=0.3.7 in /Users/ehimenagbonkhese/Downloads/220540069FPY/envv/lib/python3.9/site-packages (from langchain_pinecone) (0.3.19)\n",
            "Requirement already satisfied: aiohttp<3.11,>=3.10 in /Users/ehimenagbonkhese/Downloads/220540069FPY/envv/lib/python3.9/site-packages (from langchain_pinecone) (3.10.11)\n",
            "Requirement already satisfied: pinecone[async]<7.0.0,>=6.0.0 in /Users/ehimenagbonkhese/Downloads/220540069FPY/envv/lib/python3.9/site-packages (from langchain_pinecone) (6.0.2)\n",
            "Requirement already satisfied: langchain-core<1.0.0,>=0.3.34 in /Users/ehimenagbonkhese/Downloads/220540069FPY/envv/lib/python3.9/site-packages (from langchain_pinecone) (0.3.59)\n",
            "Requirement already satisfied: attrs>=17.3.0 in /Users/ehimenagbonkhese/Downloads/220540069FPY/envv/lib/python3.9/site-packages (from aiohttp<3.11,>=3.10->langchain_pinecone) (25.3.0)\n",
            "Requirement already satisfied: multidict<7.0,>=4.5 in /Users/ehimenagbonkhese/Downloads/220540069FPY/envv/lib/python3.9/site-packages (from aiohttp<3.11,>=3.10->langchain_pinecone) (6.4.3)\n",
            "Requirement already satisfied: aiosignal>=1.1.2 in /Users/ehimenagbonkhese/Downloads/220540069FPY/envv/lib/python3.9/site-packages (from aiohttp<3.11,>=3.10->langchain_pinecone) (1.3.2)\n",
            "Requirement already satisfied: aiohappyeyeballs>=2.3.0 in /Users/ehimenagbonkhese/Downloads/220540069FPY/envv/lib/python3.9/site-packages (from aiohttp<3.11,>=3.10->langchain_pinecone) (2.6.1)\n",
            "Requirement already satisfied: yarl<2.0,>=1.12.0 in /Users/ehimenagbonkhese/Downloads/220540069FPY/envv/lib/python3.9/site-packages (from aiohttp<3.11,>=3.10->langchain_pinecone) (1.20.0)\n",
            "Requirement already satisfied: frozenlist>=1.1.1 in /Users/ehimenagbonkhese/Downloads/220540069FPY/envv/lib/python3.9/site-packages (from aiohttp<3.11,>=3.10->langchain_pinecone) (1.6.0)\n",
            "Requirement already satisfied: async-timeout<6.0,>=4.0 in /Users/ehimenagbonkhese/Downloads/220540069FPY/envv/lib/python3.9/site-packages (from aiohttp<3.11,>=3.10->langchain_pinecone) (4.0.3)\n",
            "Requirement already satisfied: tenacity!=8.4.0,<10.0.0,>=8.1.0 in /Users/ehimenagbonkhese/Downloads/220540069FPY/envv/lib/python3.9/site-packages (from langchain-core<1.0.0,>=0.3.34->langchain_pinecone) (9.1.2)\n",
            "Requirement already satisfied: jsonpatch<2.0,>=1.33 in /Users/ehimenagbonkhese/Downloads/220540069FPY/envv/lib/python3.9/site-packages (from langchain-core<1.0.0,>=0.3.34->langchain_pinecone) (1.33)\n",
            "Requirement already satisfied: PyYAML>=5.3 in /Users/ehimenagbonkhese/Downloads/220540069FPY/envv/lib/python3.9/site-packages (from langchain-core<1.0.0,>=0.3.34->langchain_pinecone) (6.0.2)\n",
            "Requirement already satisfied: packaging<25,>=23.2 in /Users/ehimenagbonkhese/Downloads/220540069FPY/envv/lib/python3.9/site-packages (from langchain-core<1.0.0,>=0.3.34->langchain_pinecone) (24.2)\n",
            "Requirement already satisfied: pydantic<3.0.0,>=2.5.2 in /Users/ehimenagbonkhese/Downloads/220540069FPY/envv/lib/python3.9/site-packages (from langchain-core<1.0.0,>=0.3.34->langchain_pinecone) (2.11.4)\n",
            "Requirement already satisfied: langsmith<0.4,>=0.1.125 in /Users/ehimenagbonkhese/Downloads/220540069FPY/envv/lib/python3.9/site-packages (from langchain-core<1.0.0,>=0.3.34->langchain_pinecone) (0.3.42)\n",
            "Requirement already satisfied: typing-extensions>=4.7 in /Users/ehimenagbonkhese/Downloads/220540069FPY/envv/lib/python3.9/site-packages (from langchain-core<1.0.0,>=0.3.34->langchain_pinecone) (4.13.2)\n",
            "Requirement already satisfied: jsonpointer>=1.9 in /Users/ehimenagbonkhese/Downloads/220540069FPY/envv/lib/python3.9/site-packages (from jsonpatch<2.0,>=1.33->langchain-core<1.0.0,>=0.3.34->langchain_pinecone) (3.0.0)\n",
            "Requirement already satisfied: pytest-asyncio<1,>=0.20 in /Users/ehimenagbonkhese/Downloads/220540069FPY/envv/lib/python3.9/site-packages (from langchain-tests<1.0.0,>=0.3.7->langchain_pinecone) (0.26.0)\n",
            "Requirement already satisfied: httpx<1,>=0.25.0 in /Users/ehimenagbonkhese/Downloads/220540069FPY/envv/lib/python3.9/site-packages (from langchain-tests<1.0.0,>=0.3.7->langchain_pinecone) (0.28.1)\n",
            "Requirement already satisfied: syrupy<5,>=4 in /Users/ehimenagbonkhese/Downloads/220540069FPY/envv/lib/python3.9/site-packages (from langchain-tests<1.0.0,>=0.3.7->langchain_pinecone) (4.9.1)\n",
            "Requirement already satisfied: pytest<9,>=7 in /Users/ehimenagbonkhese/Downloads/220540069FPY/envv/lib/python3.9/site-packages (from langchain-tests<1.0.0,>=0.3.7->langchain_pinecone) (8.3.5)\n",
            "Requirement already satisfied: pytest-socket<1,>=0.6.0 in /Users/ehimenagbonkhese/Downloads/220540069FPY/envv/lib/python3.9/site-packages (from langchain-tests<1.0.0,>=0.3.7->langchain_pinecone) (0.7.0)\n",
            "Requirement already satisfied: httpcore==1.* in /Users/ehimenagbonkhese/Downloads/220540069FPY/envv/lib/python3.9/site-packages (from httpx<1,>=0.25.0->langchain-tests<1.0.0,>=0.3.7->langchain_pinecone) (1.0.9)\n",
            "Requirement already satisfied: idna in /Users/ehimenagbonkhese/Downloads/220540069FPY/envv/lib/python3.9/site-packages (from httpx<1,>=0.25.0->langchain-tests<1.0.0,>=0.3.7->langchain_pinecone) (3.10)\n",
            "Requirement already satisfied: certifi in /Users/ehimenagbonkhese/Downloads/220540069FPY/envv/lib/python3.9/site-packages (from httpx<1,>=0.25.0->langchain-tests<1.0.0,>=0.3.7->langchain_pinecone) (2025.4.26)\n",
            "Requirement already satisfied: anyio in /Users/ehimenagbonkhese/Downloads/220540069FPY/envv/lib/python3.9/site-packages (from httpx<1,>=0.25.0->langchain-tests<1.0.0,>=0.3.7->langchain_pinecone) (4.9.0)\n",
            "Requirement already satisfied: h11>=0.16 in /Users/ehimenagbonkhese/Downloads/220540069FPY/envv/lib/python3.9/site-packages (from httpcore==1.*->httpx<1,>=0.25.0->langchain-tests<1.0.0,>=0.3.7->langchain_pinecone) (0.16.0)\n",
            "Requirement already satisfied: requests-toolbelt<2.0.0,>=1.0.0 in /Users/ehimenagbonkhese/Downloads/220540069FPY/envv/lib/python3.9/site-packages (from langsmith<0.4,>=0.1.125->langchain-core<1.0.0,>=0.3.34->langchain_pinecone) (1.0.0)\n",
            "Requirement already satisfied: requests<3,>=2 in /Users/ehimenagbonkhese/Downloads/220540069FPY/envv/lib/python3.9/site-packages (from langsmith<0.4,>=0.1.125->langchain-core<1.0.0,>=0.3.34->langchain_pinecone) (2.32.3)\n",
            "Requirement already satisfied: zstandard<0.24.0,>=0.23.0 in /Users/ehimenagbonkhese/Downloads/220540069FPY/envv/lib/python3.9/site-packages (from langsmith<0.4,>=0.1.125->langchain-core<1.0.0,>=0.3.34->langchain_pinecone) (0.23.0)\n",
            "Requirement already satisfied: orjson<4.0.0,>=3.9.14 in /Users/ehimenagbonkhese/Downloads/220540069FPY/envv/lib/python3.9/site-packages (from langsmith<0.4,>=0.1.125->langchain-core<1.0.0,>=0.3.34->langchain_pinecone) (3.10.18)\n",
            "\u001b[33mWARNING: pinecone 6.0.2 does not provide the extra 'async'\u001b[0m\n",
            "Requirement already satisfied: pinecone-plugin-interface<0.0.8,>=0.0.7 in /Users/ehimenagbonkhese/Downloads/220540069FPY/envv/lib/python3.9/site-packages (from pinecone[async]<7.0.0,>=6.0.0->langchain_pinecone) (0.0.7)\n",
            "Requirement already satisfied: urllib3>=1.26.0 in /Users/ehimenagbonkhese/Downloads/220540069FPY/envv/lib/python3.9/site-packages (from pinecone[async]<7.0.0,>=6.0.0->langchain_pinecone) (2.4.0)\n",
            "Requirement already satisfied: python-dateutil>=2.5.3 in /Users/ehimenagbonkhese/Downloads/220540069FPY/envv/lib/python3.9/site-packages (from pinecone[async]<7.0.0,>=6.0.0->langchain_pinecone) (2.9.0.post0)\n",
            "Requirement already satisfied: annotated-types>=0.6.0 in /Users/ehimenagbonkhese/Downloads/220540069FPY/envv/lib/python3.9/site-packages (from pydantic<3.0.0,>=2.5.2->langchain-core<1.0.0,>=0.3.34->langchain_pinecone) (0.7.0)\n",
            "Requirement already satisfied: typing-inspection>=0.4.0 in /Users/ehimenagbonkhese/Downloads/220540069FPY/envv/lib/python3.9/site-packages (from pydantic<3.0.0,>=2.5.2->langchain-core<1.0.0,>=0.3.34->langchain_pinecone) (0.4.0)\n",
            "Requirement already satisfied: pydantic-core==2.33.2 in /Users/ehimenagbonkhese/Downloads/220540069FPY/envv/lib/python3.9/site-packages (from pydantic<3.0.0,>=2.5.2->langchain-core<1.0.0,>=0.3.34->langchain_pinecone) (2.33.2)\n",
            "Requirement already satisfied: pluggy<2,>=1.5 in /Users/ehimenagbonkhese/Downloads/220540069FPY/envv/lib/python3.9/site-packages (from pytest<9,>=7->langchain-tests<1.0.0,>=0.3.7->langchain_pinecone) (1.5.0)\n",
            "Requirement already satisfied: exceptiongroup>=1.0.0rc8 in /Users/ehimenagbonkhese/Downloads/220540069FPY/envv/lib/python3.9/site-packages (from pytest<9,>=7->langchain-tests<1.0.0,>=0.3.7->langchain_pinecone) (1.3.0)\n",
            "Requirement already satisfied: iniconfig in /Users/ehimenagbonkhese/Downloads/220540069FPY/envv/lib/python3.9/site-packages (from pytest<9,>=7->langchain-tests<1.0.0,>=0.3.7->langchain_pinecone) (2.1.0)\n",
            "Requirement already satisfied: tomli>=1 in /Users/ehimenagbonkhese/Downloads/220540069FPY/envv/lib/python3.9/site-packages (from pytest<9,>=7->langchain-tests<1.0.0,>=0.3.7->langchain_pinecone) (2.2.1)\n",
            "Requirement already satisfied: six>=1.5 in /Users/ehimenagbonkhese/Downloads/220540069FPY/envv/lib/python3.9/site-packages (from python-dateutil>=2.5.3->pinecone[async]<7.0.0,>=6.0.0->langchain_pinecone) (1.17.0)\n",
            "Requirement already satisfied: charset-normalizer<4,>=2 in /Users/ehimenagbonkhese/Downloads/220540069FPY/envv/lib/python3.9/site-packages (from requests<3,>=2->langsmith<0.4,>=0.1.125->langchain-core<1.0.0,>=0.3.34->langchain_pinecone) (3.4.2)\n",
            "Requirement already satisfied: propcache>=0.2.1 in /Users/ehimenagbonkhese/Downloads/220540069FPY/envv/lib/python3.9/site-packages (from yarl<2.0,>=1.12.0->aiohttp<3.11,>=3.10->langchain_pinecone) (0.3.1)\n",
            "Requirement already satisfied: sniffio>=1.1 in /Users/ehimenagbonkhese/Downloads/220540069FPY/envv/lib/python3.9/site-packages (from anyio->httpx<1,>=0.25.0->langchain-tests<1.0.0,>=0.3.7->langchain_pinecone) (1.3.1)\n",
            "\u001b[33mWARNING: You are using pip version 21.2.4; however, version 25.1.1 is available.\n",
            "You should consider upgrading via the '/Users/ehimenagbonkhese/Downloads/220540069FPY/envv/bin/python -m pip install --upgrade pip' command.\u001b[0m\n",
            "Note: you may need to restart the kernel to use updated packages.\n"
          ]
        }
      ],
      "source": [
        "%pip install pymupdf4llm\n",
        "%pip install langchain\n",
        "%pip install langchain_community\n",
        "%pip install langchain_openai\n",
        "%pip install langchain_core\n",
        "!pip install sentence_transformers\n",
        "!pip install -qU\\\n",
        "pinecone-client==3.0.0\n",
        "%pip install langchain_pinecone"
      ]
    },
    {
      "cell_type": "code",
      "execution_count": 43,
      "metadata": {
        "colab": {
          "base_uri": "https://localhost:8080/"
        },
        "id": "4rNhskteJwTw",
        "outputId": "b5a47adf-cd00-4d4a-c5cf-2dfc9558dccb"
      },
      "outputs": [
        {
          "name": "stdout",
          "output_type": "stream",
          "text": [
            "128\n"
          ]
        }
      ],
      "source": [
        "print(len(alldocs))"
      ]
    },
    {
      "cell_type": "code",
      "execution_count": 44,
      "metadata": {
        "id": "T72urKU65nJb"
      },
      "outputs": [],
      "source": [
        "from pinecone import Pinecone, ServerlessSpec\n",
        "from dotenv import load_dotenv\n",
        "import os\n",
        "load_dotenv('../secrets.env')\n",
        "\n",
        "PINECONE_APIKEY = os.getenv('PINECONE_APIKEY')\n",
        "pc = Pinecone(api_key=PINECONE_APIKEY)\n",
        "#vectorz = pc.create_index(name=\"qmuldocs\",dimension=384, metric = \"cosine\", spec = ServerlessSpec(cloud = 'aws', region = 'us-east-1'))\n",
        "vectors = pc.Index(\"qmuldocs\")"
      ]
    },
    {
      "cell_type": "code",
      "execution_count": 46,
      "metadata": {
        "id": "TQyKq3Kg5prx"
      },
      "outputs": [
        {
          "name": "stderr",
          "output_type": "stream",
          "text": [
            "/var/folders/sr/vn0049l90w7166zkfc32zdgr0000gp/T/ipykernel_4661/1755198584.py:3: LangChainDeprecationWarning: The class `HuggingFaceEmbeddings` was deprecated in LangChain 0.2.2 and will be removed in 1.0. An updated version of the class exists in the :class:`~langchain-huggingface package and should be used instead. To use it run `pip install -U :class:`~langchain-huggingface` and import as `from :class:`~langchain_huggingface import HuggingFaceEmbeddings``.\n",
            "  Embedder = HuggingFaceEmbeddings(model_name=\"all-MiniLM-L6-v2\")\n"
          ]
        }
      ],
      "source": [
        "from langchain.embeddings import HuggingFaceEmbeddings\n",
        "\n",
        "Embedder = HuggingFaceEmbeddings(model_name=\"all-MiniLM-L6-v2\")"
      ]
    },
    {
      "cell_type": "code",
      "execution_count": 47,
      "metadata": {
        "id": "WmouljM-5wTZ"
      },
      "outputs": [],
      "source": [
        "from langchain_pinecone import PineconeVectorStore\n",
        "vectors = PineconeVectorStore(index=vectors,embedding=Embedder)"
      ]
    },
    {
      "cell_type": "code",
      "execution_count": 48,
      "metadata": {
        "colab": {
          "base_uri": "https://localhost:8080/"
        },
        "id": "2KGdZoFs52Om",
        "outputId": "ba312031-6f35-4217-e3b9-643ccc9bf99b"
      },
      "outputs": [
        {
          "data": {
            "text/plain": [
              "['Advanced_Computer_Science_MSc_0',\n",
              " 'Advanced_Computer_Science_MSc_1',\n",
              " 'Advanced_Computer_Science_MSc_2',\n",
              " 'Advanced_Computer_Science_MSc_3',\n",
              " 'Advanced_Computer_Science_MSc_4',\n",
              " 'Advanced_Computer_Science_MSc_5',\n",
              " 'Advanced_Computer_Science_MSc_6',\n",
              " 'Advanced_Computer_Science_MSc_7',\n",
              " 'Advanced_Computer_Science_MSc_8',\n",
              " 'Advanced_Computer_Science_MSc_9',\n",
              " 'Advanced_Computer_Science_MSc_10',\n",
              " 'Advanced_Computer_Science_MSc_11',\n",
              " 'Artificial_Intelligence_MSc_0',\n",
              " 'Artificial_Intelligence_MSc_1',\n",
              " 'Artificial_Intelligence_MSc_2',\n",
              " 'Artificial_Intelligence_MSc_3',\n",
              " 'Artificial_Intelligence_MSc_4',\n",
              " 'Artificial_Intelligence_MSc_5',\n",
              " 'Artificial_Intelligence_MSc_6',\n",
              " 'Artificial_Intelligence_MSc_7',\n",
              " 'Artificial_Intelligence_MSc_8',\n",
              " 'Artificial_Intelligence_MSc_9',\n",
              " 'Artificial_Intelligence_MSc_10',\n",
              " 'Artificial_Intelligence_MSc_11',\n",
              " 'Computer_Games_MSc_0',\n",
              " 'Computer_Games_MSc_1',\n",
              " 'Computer_Games_MSc_2',\n",
              " 'Computer_Games_MSc_3',\n",
              " 'Computer_Games_MSc_4',\n",
              " 'Computer_Games_MSc_5',\n",
              " 'Computer_Games_MSc_6',\n",
              " 'Computer_Games_MSc_7',\n",
              " 'Computer_Games_MSc_8',\n",
              " 'Computer_Games_MSc_9',\n",
              " 'Computer_Games_MSc_10',\n",
              " 'Computer_Science_by_Research_MSc_0',\n",
              " 'Computer_Science_by_Research_MSc_1',\n",
              " 'Computer_Science_by_Research_MSc_2',\n",
              " 'Computer_Science_by_Research_MSc_3',\n",
              " 'Computer_Science_by_Research_MSc_4',\n",
              " 'Computer_Science_by_Research_MSc_5',\n",
              " 'Computer_Science_by_Research_MSc_6',\n",
              " 'Computer_Science_by_Research_MSc_7',\n",
              " 'Computer_Science_by_Research_MSc_8',\n",
              " 'Computer_Science_by_Research_MSc_9',\n",
              " 'Computer_Science_by_Research_MSc_10',\n",
              " 'Computer_Science_by_Research_MSc_11',\n",
              " 'Computer_Science_(Conversion)_MSc_0',\n",
              " 'Computer_Science_(Conversion)_MSc_1',\n",
              " 'Computer_Science_(Conversion)_MSc_2',\n",
              " 'Computer_Science_(Conversion)_MSc_3',\n",
              " 'Computer_Science_(Conversion)_MSc_4',\n",
              " 'Computer_Science_(Conversion)_MSc_5',\n",
              " 'Computer_Science_(Conversion)_MSc_6',\n",
              " 'Computer_Science_(Conversion)_MSc_7',\n",
              " 'Computer_Science_(Conversion)_MSc_8',\n",
              " 'Computer_Science_(Conversion)_MSc_9',\n",
              " 'Computer_Science_(Conversion)_MSc_10',\n",
              " 'Computer_Science_(Conversion)_MSc_11',\n",
              " 'Data_Science_MSc_0',\n",
              " 'Data_Science_MSc_1',\n",
              " 'Data_Science_MSc_2',\n",
              " 'Data_Science_MSc_3',\n",
              " 'Data_Science_MSc_4',\n",
              " 'Data_Science_MSc_5',\n",
              " 'Data_Science_MSc_6',\n",
              " 'Data_Science_MSc_7',\n",
              " 'Data_Science_MSc_8',\n",
              " 'Data_Science_MSc_9',\n",
              " 'Data_Science_and_Artificial_Intelligence_(Conversion_Programme)_MSc_0',\n",
              " 'Data_Science_and_Artificial_Intelligence_(Conversion_Programme)_MSc_1',\n",
              " 'Data_Science_and_Artificial_Intelligence_(Conversion_Programme)_MSc_2',\n",
              " 'Data_Science_and_Artificial_Intelligence_(Conversion_Programme)_MSc_3',\n",
              " 'Data_Science_and_Artificial_Intelligence_(Conversion_Programme)_MSc_4',\n",
              " 'Data_Science_and_Artificial_Intelligence_(Conversion_Programme)_MSc_5',\n",
              " 'Data_Science_and_Artificial_Intelligence_(Conversion_Programme)_MSc_6',\n",
              " 'Data_Science_and_Artificial_Intelligence_(Conversion_Programme)_MSc_7',\n",
              " 'Data_Science_and_Artificial_Intelligence_(Conversion_Programme)_MSc_8',\n",
              " 'Data_Science_and_Artificial_Intelligence_(Conversion_Programme)_MSc_9',\n",
              " 'Data_Science_and_Artificial_Intelligence_(Conversion_Programme)_MSc_10',\n",
              " 'Machine_Learning_for_Visual_Data_Analytics_MSc_0',\n",
              " 'Machine_Learning_for_Visual_Data_Analytics_MSc_1',\n",
              " 'Machine_Learning_for_Visual_Data_Analytics_MSc_2',\n",
              " 'Machine_Learning_for_Visual_Data_Analytics_MSc_3',\n",
              " 'Machine_Learning_for_Visual_Data_Analytics_MSc_4',\n",
              " 'Machine_Learning_for_Visual_Data_Analytics_MSc_5',\n",
              " 'Machine_Learning_for_Visual_Data_Analytics_MSc_6',\n",
              " 'Machine_Learning_for_Visual_Data_Analytics_MSc_7',\n",
              " 'Machine_Learning_for_Visual_Data_Analytics_MSc_8',\n",
              " 'Machine_Learning_for_Visual_Data_Analytics_MSc_9',\n",
              " 'Machine_Learning_for_Visual_Data_Analytics_MSc_10',\n",
              " 'Machine_Learning_for_Visual_Data_Analytics_MSc_11',\n",
              " 'Sound_and_Music_Computing_MSc_0',\n",
              " 'Sound_and_Music_Computing_MSc_1',\n",
              " 'Sound_and_Music_Computing_MSc_2',\n",
              " 'Sound_and_Music_Computing_MSc_3',\n",
              " 'Sound_and_Music_Computing_MSc_4',\n",
              " 'Sound_and_Music_Computing_MSc_5',\n",
              " 'Sound_and_Music_Computing_MSc_6',\n",
              " 'Sound_and_Music_Computing_MSc_7',\n",
              " 'Sound_and_Music_Computing_MSc_8',\n",
              " 'Sound_and_Music_Computing_MSc_9',\n",
              " 'Sound_and_Music_Computing_MSc_10',\n",
              " 'Sound_and_Music_Computing_MSc_11',\n",
              " 'Advanced_Electronic_and_Electrical_Engineering_MSc_0',\n",
              " 'Advanced_Electronic_and_Electrical_Engineering_MSc_1',\n",
              " 'Advanced_Electronic_and_Electrical_Engineering_MSc_2',\n",
              " 'Advanced_Electronic_and_Electrical_Engineering_MSc_3',\n",
              " 'Advanced_Electronic_and_Electrical_Engineering_MSc_4',\n",
              " 'Advanced_Electronic_and_Electrical_Engineering_MSc_5',\n",
              " 'Advanced_Electronic_and_Electrical_Engineering_MSc_6',\n",
              " 'Advanced_Electronic_and_Electrical_Engineering_MSc_7',\n",
              " 'Advanced_Electronic_and_Electrical_Engineering_MSc_8',\n",
              " 'Advanced_Electronic_and_Electrical_Engineering_MSc_9',\n",
              " 'Advanced_Electronic_and_Electrical_Engineering_MSc_10',\n",
              " 'Advanced_Electronic_and_Electrical_Engineering_MSc_11',\n",
              " 'Electronic_Engineering_by_Research_MSc_0',\n",
              " 'Electronic_Engineering_by_Research_MSc_1',\n",
              " 'Electronic_Engineering_by_Research_MSc_2',\n",
              " 'Electronic_Engineering_by_Research_MSc_3',\n",
              " 'Electronic_Engineering_by_Research_MSc_4',\n",
              " 'Electronic_Engineering_by_Research_MSc_5',\n",
              " 'Electronic_Engineering_by_Research_MSc_6',\n",
              " 'Electronic_Engineering_by_Research_MSc_7',\n",
              " 'Electronic_Engineering_by_Research_MSc_8',\n",
              " 'Electronic_Engineering_by_Research_MSc_9',\n",
              " 'Electronic_Engineering_by_Research_MSc_10',\n",
              " 'Electronic_Engineering_by_Research_MSc_11']"
            ]
          },
          "execution_count": 48,
          "metadata": {},
          "output_type": "execute_result"
        }
      ],
      "source": [
        "\n",
        "vectors.add_documents(documents=alldocs, ids=allids, namespace = \"Postgraduate\")\n"
      ]
    },
    {
      "cell_type": "code",
      "execution_count": 49,
      "metadata": {
        "id": "O_jzL5CXJ7Sf"
      },
      "outputs": [
        {
          "name": "stdout",
          "output_type": "stream",
          "text": [
            "1\n",
            "5\n",
            "6\n",
            "7\n",
            "8\n",
            "11\n",
            "12\n"
          ]
        }
      ],
      "source": [
        "x = scrapePG('https://www.qmul.ac.uk/postgraduate/taught/coursefinder/courses/advanced-computer-science-msc/')"
      ]
    }
  ],
  "metadata": {
    "colab": {
      "provenance": []
    },
    "kernelspec": {
      "display_name": "env",
      "language": "python",
      "name": "python3"
    },
    "language_info": {
      "codemirror_mode": {
        "name": "ipython",
        "version": 3
      },
      "file_extension": ".py",
      "mimetype": "text/x-python",
      "name": "python",
      "nbconvert_exporter": "python",
      "pygments_lexer": "ipython3",
      "version": "3.9.6"
    }
  },
  "nbformat": 4,
  "nbformat_minor": 0
}
